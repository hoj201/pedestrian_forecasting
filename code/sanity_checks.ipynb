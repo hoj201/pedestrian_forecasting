{
 "cells": [
  {
   "cell_type": "markdown",
   "metadata": {},
   "source": [
    "#Intro\n",
    "I've spent the past week coding, and much of it I trust.\n",
    "However, the code for the joint probability distributions:\n",
    "* $P(Lin, x_0, \\hat{x}_0, \\hat{v}_0)$\n",
    "* $P(Lin, x_t, \\hat{x}_0, \\hat{v}_0)$,\n",
    "\n",
    "has not been tested yet.  Therefore it would be nice to check the the following identities.\n",
    "\n",
    "1. $\\lim_{t \\to 0} P(Lin, x_t, \\hat{x}_0, \\hat{v}_0) = P(Lin, x_0, \\hat{x}_0, \\hat{v}_0)$\n",
    "2. $\\int P( Lin, x_t , \\hat{x}_0, \\hat{v}_0 ) dx_t = \\int P( Lin, x_0 , \\hat{x}_0, \\hat{v}_0 ) dx_0$"
   ]
  },
  {
   "cell_type": "markdown",
   "metadata": {},
   "source": [
    "#Code tidbits\n",
    "   The routines Id like you to test are called `derived_posteriors.joint_lin_x_x_hat_v_hat` and `derived_posteriors.joint_lin_x_t_x_hat_v_hat`.  The doc-string is displayed below."
   ]
  },
  {
   "cell_type": "code",
   "execution_count": 3,
   "metadata": {
    "collapsed": false
   },
   "outputs": [
    {
     "name": "stdout",
     "output_type": "stream",
     "text": [
      "Help on function joint_lin_x_x_hat_v_hat in module derived_posteriors:\n",
      "\n",
      "joint_lin_x_x_hat_v_hat(x, x_hat, v_hat)\n",
      "    returns the joint probability P(lin,x,x_hat,v_hat)\n",
      "    Takes:\n",
      "    x: np.array(2,N): points to be evaluated\n",
      "    x_hat: np.array(2): position measurement\n",
      "    v_hat: np.array(2): velocity measurement\n",
      "\n"
     ]
    }
   ],
   "source": [
    "from derived_posteriors import joint_lin_x_x_hat_v_hat, joint_lin_x_t_x_hat_v_hat\n",
    "help(joint_lin_x_x_hat_v_hat)"
   ]
  },
  {
   "cell_type": "markdown",
   "metadata": {},
   "source": [
    "Note the array conventions have changed a bit.  In particular, the routines are vectorized in $x_0$ and $x_t$ respectively, where we assume $x_0$ is a $2\\times N$ array (rather than an $N \\times 2$ array).  The reasons for this change are questionable perhaps.  I think it made some things more convenient that I was coding at the time, but then it made other things less so."
   ]
  }
 ],
 "metadata": {
  "kernelspec": {
   "display_name": "Python 2",
   "language": "python",
   "name": "python2"
  },
  "language_info": {
   "codemirror_mode": {
    "name": "ipython",
    "version": 2
   },
   "file_extension": ".py",
   "mimetype": "text/x-python",
   "name": "python",
   "nbconvert_exporter": "python",
   "pygments_lexer": "ipython2",
   "version": "2.7.11"
  }
 },
 "nbformat": 4,
 "nbformat_minor": 0
}
