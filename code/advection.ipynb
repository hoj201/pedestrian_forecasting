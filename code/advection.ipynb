{
 "cells": [
  {
   "cell_type": "markdown",
   "metadata": {},
   "source": [
    "## Important Operators on $S^1$\n",
    "Let's construct the differential operators and multiplication operators in a (real) Fourier basis.\n",
    "Note the multiplication rules\n",
    "$$\n",
    "    \\sin(jx) \\sin(ix) = \\frac{-1}{2} \\cos( (i+j) x ) + \\frac{1}{2} \\cos( (i-j)x ) \\\\\n",
    "    \\sin(jx) \\cos(ix) = \\frac{ 1}{2} \\sin( (i+j) x ) + \\frac{1}{2} \\sin( (i-j)x ) \\\\\n",
    "    \\cos(jx) \\cos(ix) = \\frac{1}{2} \\cos( (i+j) x ) + \\frac{1}{2} \\cos( (i-j)x)\n",
    "$$"
   ]
  },
  {
   "cell_type": "code",
   "execution_count": null,
   "metadata": {
    "collapsed": true
   },
   "outputs": [],
   "source": []
  },
  {
   "cell_type": "markdown",
   "metadata": {},
   "source": [
    "## Important Operators on $\\mathbb{R}^2$\n",
    "Let's construct the differential operators and multiplication operators in a (real) Hermite basis.\n",
    "Take scaling into account."
   ]
  },
  {
   "cell_type": "code",
   "execution_count": null,
   "metadata": {
    "collapsed": true
   },
   "outputs": [],
   "source": []
  },
  {
   "cell_type": "code",
   "execution_count": null,
   "metadata": {
    "collapsed": true
   },
   "outputs": [],
   "source": []
  }
 ],
 "metadata": {
  "kernelspec": {
   "display_name": "Python 2",
   "language": "python",
   "name": "python2"
  },
  "language_info": {
   "codemirror_mode": {
    "name": "ipython",
    "version": 2
   },
   "file_extension": ".py",
   "mimetype": "text/x-python",
   "name": "python",
   "nbconvert_exporter": "python",
   "pygments_lexer": "ipython2",
   "version": "2.7.11"
  }
 },
 "nbformat": 4,
 "nbformat_minor": 0
}
