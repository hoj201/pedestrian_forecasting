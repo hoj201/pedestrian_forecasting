{
 "cells": [
  {
   "cell_type": "code",
   "execution_count": 2,
   "metadata": {
    "collapsed": false
   },
   "outputs": [
    {
     "name": "stdout",
     "output_type": "stream",
     "text": [
      "width = 1980.000000, height = 1093.000000\n"
     ]
    }
   ],
   "source": [
    "import numpy as np\n",
    "import process_data\n",
    "process_data = reload(process_data)\n",
    "folder = '../annotations/coupa/video2/'\n",
    "fname = folder + 'annotations.txt'\n",
    "x_raw,y_raw = process_data.get_trajectories(fname,label=\"Biker\")\n",
    "\n",
    "from PIL import Image\n",
    "fname = folder + 'reference.jpg'\n",
    "im = Image.open(fname)\n",
    "width,height = im.size\n",
    "print \"width = %f, height = %f\" % (width,height)\n",
    "x_data = map( lambda x: x-width/2 , x_raw )\n",
    "y_data = map( lambda x: x-height/2 , y_raw )\n",
    "domain = (-width/2,width/2,-height/2,height/2)"
   ]
  },
  {
   "cell_type": "code",
   "execution_count": 3,
   "metadata": {
    "collapsed": true
   },
   "outputs": [],
   "source": [
    "from matplotlib import pyplot as plt\n",
    "%matplotlib inline"
   ]
  },
  {
   "cell_type": "code",
   "execution_count": 4,
   "metadata": {
    "collapsed": false
   },
   "outputs": [],
   "source": [
    "theta = np.load('theta_opt_stat_mech.npy')"
   ]
  },
  {
   "cell_type": "markdown",
   "metadata": {},
   "source": [
    "# Modified Hausdorff Distance"
   ]
  },
  {
   "cell_type": "code",
   "execution_count": 5,
   "metadata": {
    "collapsed": true
   },
   "outputs": [],
   "source": [
    "def modified_Hausdorff_distance(x_a, y_a, x_b, y_b):\n",
    "    #computes the modified Hausdorff distance between two point sets.\n",
    "    return max( mhd_helper(x_a, y_a, x_b, y_b) , mhd_helper(x_b, y_b, x_a, y_a) )\n",
    "\n",
    "def mhd_helper(x_a, y_a, x_b, y_b):\n",
    "    out = 0\n",
    "    for x,y in zip(x_a,y_a):\n",
    "        out += np.sqrt( np.min( (x_b - x)**2 + (y_b-y)**2 ) )\n",
    "    out = out / len(x_a)\n",
    "    return out"
   ]
  },
  {
   "cell_type": "markdown",
   "metadata": {},
   "source": [
    "## Collocation"
   ]
  },
  {
   "cell_type": "code",
   "execution_count": 119,
   "metadata": {
    "collapsed": false
   },
   "outputs": [],
   "source": [
    "def get_vars( dec_vars ):\n",
    "    n = (len(dec_vars))/2\n",
    "    x_int = dec_vars[:n]\n",
    "    y_int = dec_vars[n:2*n]\n",
    "    return x_int, y_int\n",
    "\n",
    "def length( dec_vars, x0, y0, xf, yf ):\n",
    "    #computes the action of a curve\n",
    "    global theta, width, height\n",
    "    x_int, y_int = get_vars(dec_vars)\n",
    "    x = np.hstack([x0,x_int,xf])\n",
    "    y = np.hstack([y0,y_int,yf])\n",
    "    n = len(x)\n",
    "    u = ( x[1:] - x[:n-1] )\n",
    "    v = ( y[1:] - y[:n-1] )\n",
    "    return 0.5*np.dot(u,u) + 0.5*np.dot(v,v)\n",
    "    \n",
    "def jac_length(dec_vars, x0, y0, xf, yf ):\n",
    "    #computes the jacobian of the action functional\n",
    "    x_int, y_int = get_vars(dec_vars)\n",
    "    x = np.hstack([x0,x_int,xf])\n",
    "    y = np.hstack([y0,y_int,yf])\n",
    "    n = len(x)\n",
    "    u = ( x[1:] - x[:n-1] )\n",
    "    v = ( y[1:] - y[:n-1] )\n",
    "    ax = ( -x[2:n] + 2*x[1:n-1] - x[0:n-2]  )\n",
    "    ay = ( -y[2:n] + 2*y[1:n-1] - y[0:n-2]  )\n",
    "    dlength_dT = -0.5*(np.dot(u,u)+np.dot(v,v)) \n",
    "    return np.hstack( [ax, ay] )\n",
    "\n",
    "def action( dec_vars , x0, y0, xf, yf ):\n",
    "    #computes the action of a curve\n",
    "    global theta, width, height\n",
    "    x_int, y_int = get_vars( dec_vars)\n",
    "    x = np.hstack([x0,x_int,xf])\n",
    "    y = np.hstack([y0,y_int,yf])\n",
    "    n = len(x)\n",
    "    from numpy.polynomial.legendre import legval2d\n",
    "    V_sum = legval2d(2*x[1:n-1]/width, 2*y[1:n-1]/height, theta).sum()\n",
    "    return length( dec_vars, x0, y0, xf, yf) - V_sum\n",
    "\n",
    "def jac_action( dec_vars , x0, y0, xf, yf ):\n",
    "    #this is also the jacobian of the action\n",
    "    global theta, width, height\n",
    "    x_int, y_int = get_vars( dec_vars)\n",
    "    x = np.hstack([x0,x_int,xf])\n",
    "    y = np.hstack([y0,y_int,yf])\n",
    "    n = len(x)\n",
    "    from numpy.polynomial.legendre import legder, legval2d\n",
    "    theta_x = legder( theta, m=1, axis=0)\n",
    "    theta_y = legder( theta, m=1, axis=1)\n",
    "    V_x = 2*legval2d( 2*x[1:n-1]/width, 2*y[1:n-1]/height, theta_x)/width\n",
    "    V_y = 2*legval2d( 2*x[1:n-1]/width, 2*y[1:n-1]/height, theta_y)/height\n",
    "    return np.hstack([-V_x, -V_y]) + jac_length( dec_vars, x0, y0, xf, yf)\n",
    "\n",
    "def hess_action( dec_vars , x0, y0, xf, yf):\n",
    "    #the jacobian of the EL constraint [ [A+Vxx, Vxy], [Vxy, A+Vyy] ]\n",
    "    global theta, width, height\n",
    "    x_int, y_int = get_vars(dec_vars)\n",
    "    x = np.hstack([x0,x_int,xf])\n",
    "    y = np.hstack([y0,y_int,yf])\n",
    "    n = len(x)\n",
    "    from scipy import sparse\n",
    "    diags = np.ones((3,n))\n",
    "    diags[1,:] = -2*np.ones(n)\n",
    "    A = sparse.dia_matrix( (diags, [-1,0,1]) , shape = (n-2,n-2))\n",
    "    from numpy.polynomial.legendre import legder, legval2d\n",
    "    theta_xx = legder( theta, m=2, axis=0)\n",
    "    theta_yy = legder( theta, m=2, axis=1)\n",
    "    theta_xy = legder( legder( theta, axis=0 ) , axis=1 )\n",
    "    Vxx = 4*legval2d( 2*x[1:n-1]/width, 2*y[1:n-1]/height, theta_xx)/(width**2)\n",
    "    Vxx = sparse.dia_matrix( ( Vxx, 0), shape=(n-2,n-2) )\n",
    "    Vyy = 4*legval2d( 2*x[1:n-1]/width, 2*y[1:n-1]/height, theta_yy)/(height**2)\n",
    "    Vyy = sparse.dia_matrix( ( Vyy, 0), shape=(n-2,n-2) )\n",
    "    Vxy = 4*legval2d( 2*x[1:n-1]/width, 2*y[1:n-1]/height, theta_xy)/(width*height)\n",
    "    Vxy = sparse.dia_matrix( ( Vxy, 0), shape=(n-2,n-2) )\n",
    "    out = -sparse.vstack( [ sparse.hstack( [A+Vxx, Vxy] ) , sparse.hstack([Vxy, A+Vyy]) ] ) \n",
    "    return out.toarray()\n",
    "\n",
    "\n",
    "def get_optimal_curve(x_begin, y_begin, x_end, y_end, n_steps, guess=None):\n",
    "    # computes the optimal curve which satisfies the dynamics.\n",
    "    global height, width, action, EL_constraint, gradient_descent\n",
    "    if guess is None:\n",
    "        x_guess = np.linspace(x_begin, x_end, n_steps)[1:n_steps-1]\n",
    "        y_guess = np.linspace(y_begin, y_end, n_steps)[1:n_steps-1]\n",
    "        guess = np.hstack([x_guess,y_guess])\n",
    "    from scipy.optimize import minimize\n",
    "    constraint_list = []\n",
    "    bounds = [(-width/2,width/2)]*(n_steps-2) + [(-height/2,height/2)]*(n_steps-2)\n",
    "    #constraint_list.append( {'type':'eq', 'fun':EL_constraint, 'args':(x_begin, y_begin, x_end, y_end),'jac':jac_EL})\n",
    "    res = minimize( action, guess, jac = jac_action, hess= hess_action, bounds = bounds, method='Newton-CG',\n",
    "                   args=(x_begin,y_begin,x_end,y_end), options = {'maxiter':1000})\n",
    "    print res.message\n",
    "    x,y = get_vars( res.x)\n",
    "    x,y = get_vars( xy_int )\n",
    "    x = np.hstack([x_begin, x, x_end])\n",
    "    y = np.hstack([y_begin, y, y_end])\n",
    "    return x,y"
   ]
  },
  {
   "cell_type": "code",
   "execution_count": 120,
   "metadata": {
    "collapsed": false
   },
   "outputs": [
    {
     "name": "stdout",
     "output_type": "stream",
     "text": [
      "20\n",
      "perturbation size = 1e-05\n",
      "TESTING LENGTH\n",
      "finite difference = 1e-10\n",
      "computed          = -1.11022e-21\n",
      "TESTING ACTION\n",
      "finite difference = 2.04506e-06\n",
      "computed          = 2.04496e-06\n",
      "TESTING HESSIAN\n",
      "[  0.00000000e+00   0.00000000e+00   0.00000000e+00  -1.00000000e-05\n",
      "   1.99870801e-05  -1.00000000e-05   0.00000000e+00   0.00000000e+00\n",
      "   0.00000000e+00   0.00000000e+00   0.00000000e+00   0.00000000e+00\n",
      "   0.00000000e+00   0.00000000e+00   3.59134830e-09   0.00000000e+00\n",
      "   0.00000000e+00   0.00000000e+00   0.00000000e+00   0.00000000e+00]\n",
      "[  0.00000000e+00   0.00000000e+00   0.00000000e+00  -1.00000000e-05\n",
      "   1.99870801e-05  -1.00000000e-05   0.00000000e+00   0.00000000e+00\n",
      "   0.00000000e+00   0.00000000e+00   0.00000000e+00   0.00000000e+00\n",
      "   0.00000000e+00   0.00000000e+00   3.59134615e-09   0.00000000e+00\n",
      "   0.00000000e+00   0.00000000e+00   0.00000000e+00   0.00000000e+00]\n"
     ]
    }
   ],
   "source": [
    "x0 = -1.0\n",
    "xf = 1.0\n",
    "y0 = 1.2\n",
    "yf = 2.1\n",
    "\n",
    "x = np.linspace(x0,xf,10)\n",
    "y = np.linspace(x0,xf,10)\n",
    "dec_vars = np.hstack( [ x, y] )\n",
    "h = 1e-6\n",
    "pert = np.zeros(len(dec_vars))\n",
    "pert[4] = 1e-5\n",
    "print len(pert)\n",
    "print \"perturbation size = %.4g\" % np.abs(pert).max()\n",
    "\n",
    "print \"TESTING LENGTH\"\n",
    "fd = ( length(dec_vars+pert, x0, y0, xf, yf) - length(dec_vars, x0, y0, xf, yf) )\n",
    "computed = np.dot( jac_length(dec_vars, x0, y0, xf, yf) , pert ) \n",
    "print \"finite difference = %g\" % fd\n",
    "print \"computed          = %g\" % computed\n",
    "\n",
    "print \"TESTING ACTION\"\n",
    "fd = ( action( dec_vars+pert, x0, y0, xf, yf) - action(dec_vars, x0, y0, xf, yf) )\n",
    "computed = np.dot( jac_action(dec_vars, x0, y0, xf, yf), pert)\n",
    "print \"finite difference = %g\" % fd\n",
    "print \"computed          = %g\" % computed\n",
    "\n",
    "print \"TESTING HESSIAN\"\n",
    "fd = jac_action(dec_vars+pert,x0,y0,xf,yf)- jac_action(dec_vars,x0,y0,xf,yf)\n",
    "computed = hess_action( dec_vars, x0, y0, xf, yf).dot( pert)\n",
    "print fd\n",
    "print computed"
   ]
  },
  {
   "cell_type": "code",
   "execution_count": 128,
   "metadata": {
    "collapsed": false
   },
   "outputs": [
    {
     "data": {
      "image/png": "[encoded data removed]",
      "text/plain": [
       "<matplotlib.figure.Figure at 0x10d7efe10>"
      ]
     },
     "metadata": {},
     "output_type": "display_data"
    }
   ],
   "source": [
    "curve_ind = 2\n",
    "fig,ax = plt.subplots(1,1, figsize=(10,5))\n",
    "ax.plot(x_data[curve_ind], y_data[curve_ind], 'b-')\n",
    "\n",
    "n_steps = len( x_data[curve_ind])\n",
    "x_begin = x_data[curve_ind][0]\n",
    "y_begin = y_data[curve_ind][0]\n",
    "x_end = x_data[curve_ind][-1]\n",
    "y_end = y_data[curve_ind][-1]\n",
    "\n",
    "x_int = np.linspace(x_begin, x_end, n_steps)[1:n_steps-1]\n",
    "y_int = np.linspace(y_begin, y_end, n_steps)[1:n_steps-1]\n",
    "#ax.plot( x_int, y_int , 'r-')\n",
    "\n",
    "xy_int = np.hstack( [x_int, y_int])\n",
    "dx_int,dy_int = get_vars( jac_action( xy_int, x_begin, y_begin, x_end, y_end ) )\n",
    "gamma = 10\n",
    "for k in range( 0,len(x_int)):\n",
    "    ax.arrow(x_int[k], y_int[k], gamma*dx_int[k], gamma*dy_int[k], head_length=1)"
   ]
  },
  {
   "cell_type": "code",
   "execution_count": 125,
   "metadata": {
    "collapsed": false
   },
   "outputs": [
    {
     "name": "stdout",
     "output_type": "stream",
     "text": [
      "Optimization terminated successfully.\n"
     ]
    }
   ],
   "source": [
    "x,y = get_optimal_curve(x_begin, y_begin, x_end, y_end, n_steps)"
   ]
  },
  {
   "cell_type": "code",
   "execution_count": 126,
   "metadata": {
    "collapsed": false
   },
   "outputs": [
    {
     "data": {
      "text/plain": [
       "<matplotlib.colorbar.Colorbar at 0x112c32150>"
      ]
     },
     "execution_count": 126,
     "metadata": {},
     "output_type": "execute_result"
    },
    {
     "data": {
      "image/png": "[encoded data removed]",
      "text/plain": [
       "<matplotlib.figure.Figure at 0x112ef1e10>"
      ]
     },
     "metadata": {},
     "output_type": "display_data"
    }
   ],
   "source": [
    "plt.plot(x,y, 'r-')\n",
    "plt.plot(x_data[curve_ind], y_data[curve_ind])\n",
    "\n",
    "x_grid,y_grid = np.meshgrid( np.linspace(-width/2,width/2,50), np.linspace(-height/2,height/2,50))\n",
    "from numpy.polynomial.legendre import legval2d\n",
    "plt.contourf( x_grid, y_grid, legval2d(2*x_grid/width,2*y_grid/height,theta) , 20, cmap='Greys')\n",
    "plt.colorbar()"
   ]
  },
  {
   "cell_type": "code",
   "execution_count": 127,
   "metadata": {
    "collapsed": false
   },
   "outputs": [
    {
     "name": "stdout",
     "output_type": "stream",
     "text": [
      "[<matplotlib.lines.Line2D object at 0x112b8a9d0>]\n"
     ]
    },
    {
     "data": {
      "image/png": "[encoded data removed]",
      "text/plain": [
       "<matplotlib.figure.Figure at 0x10d7efad0>"
      ]
     },
     "metadata": {},
     "output_type": "display_data"
    }
   ],
   "source": [
    "print plt.plot( x)"
   ]
  },
  {
   "cell_type": "code",
   "execution_count": 144,
   "metadata": {
    "collapsed": true
   },
   "outputs": [],
   "source": [
    "for i in range(len(x_data)):\n",
    "    fname = 'coup_curves/curve_%d.csv' % i\n",
    "    array_to_save = np.vstack( [x_data[i], y_data[i]] )\n",
    "    np.savetxt(fname, array_to_save, delimiter=',')\n",
    "    "
   ]
  },
  {
   "cell_type": "code",
   "execution_count": 145,
   "metadata": {
    "collapsed": false
   },
   "outputs": [],
   "source": [
    "BC = np.zeros( (len(x_data),5) )\n",
    "for i in range( len(x_data)):\n",
    "    BC[i,0] = x_data[i][0]\n",
    "    BC[i,1] = y_data[i][0]\n",
    "    BC[i,2] = x_data[i][-1]\n",
    "    BC[i,3] = y_data[i][-1]\n",
    "    BC[i,4] = len(x_data[i])\n",
    "\n",
    "np.savetxt('boundary_conditions', BC, delimiter=',')"
   ]
  },
  {
   "cell_type": "code",
   "execution_count": 146,
   "metadata": {
    "collapsed": false
   },
   "outputs": [
    {
     "name": "stdout",
     "output_type": "stream",
     "text": [
      "[[-957.5  398.5  952.5  378.   433. ]\n",
      " [-949.5  373.5 -956.   292.5  601. ]\n",
      " [-972.5  333.5 -333.  -530.5  229. ]\n",
      " [-950.5  412.5  966.   410.   542. ]\n",
      " [ 936.   364.5 -964.   288.   308. ]\n",
      " [-916.5  331.5  967.5  371.   328. ]\n",
      " [-172.  -492.5  967.5  211.   320. ]\n",
      " [ 875.5  428.  -128.   218.5  532. ]\n",
      " [-935.   290.5 -275.5 -531.5  366. ]\n",
      " [-947.5  478.   951.   250.5  412. ]\n",
      " [-959.   411.   961.   429.5  355. ]\n",
      " [ 947.   497.5 -960.   298.5  449. ]\n",
      " [-940.5  290.5  943.   154.5  299. ]\n",
      " [-594.  -511.  -975.   258.5  175. ]\n",
      " [-340.  -519.  -937.   252.5  204. ]\n",
      " [-233.  -512.   933.   340.5  191. ]\n",
      " [ 945.5 -512.   915.5 -512.    39. ]\n",
      " [ 947.   195.  -176.5 -520.   335. ]\n",
      " [ 929.   474.5  693.   518.   158. ]\n",
      " [ 398.5  393.   958.   343.   120. ]\n",
      " [-927.   244.5 -259.  -519.   220. ]\n",
      " [-950.5  339.  -333.  -506.5  213. ]\n",
      " [-952.   402.  -272.5 -522.5  316. ]\n",
      " [ 944.5  131.  -363.5 -515.5  830. ]\n",
      " [ 958.   281.  -950.5  305.   366. ]\n",
      " [-364.5 -513.  -938.5  200.5  215. ]\n",
      " [-949.5  368.  -302.5 -511.   132. ]\n",
      " [-545.   508.  -978.   347.   115. ]\n",
      " [ 949.5  252.5 -143.5 -503.   238. ]\n",
      " [-949.5  434.    19.   241.5  272. ]]\n"
     ]
    }
   ],
   "source": [
    "print BC\n"
   ]
  },
  {
   "cell_type": "code",
   "execution_count": 147,
   "metadata": {
    "collapsed": false
   },
   "outputs": [
    {
     "name": "stdout",
     "output_type": "stream",
     "text": [
      "990\n"
     ]
    }
   ],
   "source": [
    "print width/2\n"
   ]
  },
  {
   "cell_type": "code",
   "execution_count": null,
   "metadata": {
    "collapsed": true
   },
   "outputs": [],
   "source": []
  }
 ],
 "metadata": {
  "kernelspec": {
   "display_name": "Python 2",
   "language": "python",
   "name": "python2"
  },
  "language_info": {
   "codemirror_mode": {
    "name": "ipython",
    "version": 2
   },
   "file_extension": ".py",
   "mimetype": "text/x-python",
   "name": "python",
   "nbconvert_exporter": "python",
   "pygments_lexer": "ipython2",
   "version": "2.7.11"
  }
 },
 "nbformat": 4,
 "nbformat_minor": 0
}
