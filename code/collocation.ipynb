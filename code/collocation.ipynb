{
 "cells": [
  {
   "cell_type": "code",
   "execution_count": 146,
   "metadata": {
    "collapsed": false
   },
   "outputs": [
    {
     "name": "stdout",
     "output_type": "stream",
     "text": [
      "width = 1980.000000, height = 1093.000000\n"
     ]
    }
   ],
   "source": [
    "import numpy as np\n",
    "import process_data\n",
    "process_data = reload(process_data)\n",
    "folder = '../annotations/coupa/video2/'\n",
    "fname = folder + 'annotations.txt'\n",
    "x_raw,y_raw = process_data.get_trajectories(fname,label=\"Biker\")\n",
    "\n",
    "from PIL import Image\n",
    "fname = folder + 'reference.jpg'\n",
    "im = Image.open(fname)\n",
    "width,height = im.size\n",
    "print \"width = %f, height = %f\" % (width,height)\n",
    "x_data = map( lambda x: x-width/2 , x_raw )\n",
    "y_data = map( lambda x: x-height/2 , y_raw )\n",
    "domain = (-width/2,width/2,-height/2,height/2)"
   ]
  },
  {
   "cell_type": "code",
   "execution_count": 147,
   "metadata": {
    "collapsed": true
   },
   "outputs": [],
   "source": [
    "from matplotlib import pyplot as plt\n",
    "%matplotlib inline"
   ]
  },
  {
   "cell_type": "code",
   "execution_count": 148,
   "metadata": {
    "collapsed": false
   },
   "outputs": [],
   "source": [
    "theta = np.load('theta_opt_stat_mech.npy')"
   ]
  },
  {
   "cell_type": "markdown",
   "metadata": {},
   "source": [
    "# Modified Hausdorff Distance"
   ]
  },
  {
   "cell_type": "code",
   "execution_count": 149,
   "metadata": {
    "collapsed": true
   },
   "outputs": [],
   "source": [
    "def modified_Hausdorff_distance(x_a, y_a, x_b, y_b):\n",
    "    #computes the modified Hausdorff distance between two point sets.\n",
    "    return max( mhd_helper(x_a, y_a, x_b, y_b) , mhd_helper(x_b, y_b, x_a, y_a) )\n",
    "\n",
    "def mhd_helper(x_a, y_a, x_b, y_b):\n",
    "    out = 0\n",
    "    for x,y in zip(x_a,y_a):\n",
    "        out += np.sqrt( np.min( (x_b - x)**2 + (y_b-y)**2 ) )\n",
    "    out = out / len(x_a)\n",
    "    return out"
   ]
  },
  {
   "cell_type": "markdown",
   "metadata": {},
   "source": [
    "## Collocation"
   ]
  },
  {
   "cell_type": "code",
   "execution_count": 164,
   "metadata": {
    "collapsed": true
   },
   "outputs": [],
   "source": [
    "def get_vars( xy_int ):\n",
    "    n = (len(xy_int))/2\n",
    "    return xy_int[:n], xy_int[n:2*n]\n",
    "\n",
    "def length( xy_int, x0, y0, xy, yf ):\n",
    "    #computes the action of a curve\n",
    "    global theta, width, height\n",
    "    x_int, y_int = get_vars(xy_int)\n",
    "    x = np.hstack([x0,x_int,xf])\n",
    "    y = np.hstack([y0,y_int,yf])\n",
    "    n = len(x)\n",
    "    u = ( x[1:] - x[:n-1] )\n",
    "    v = ( y[1:] - y[:n-1] )\n",
    "    out = 0.5*np.dot(u,u) + 0.5*np.dot(v,v)\n",
    "    return out\n",
    "    \n",
    "def jac_length(dec_vars, x0, y0, xy, yf ):\n",
    "    #computes the jacobian of the action functional\n",
    "    x_int, y_int = get_vars(xy_int)\n",
    "    x = np.hstack([x0,x_int,xf])\n",
    "    y = np.hstack([y0,y_int,yf])\n",
    "    n = len(x)\n",
    "    u = ( x[1:] - x[:n-1] )\n",
    "    v = ( y[1:] - y[:n-1] )\n",
    "    ax = u[:n-2] - u[1:]\n",
    "    ay = v[:n-2] - v[1:]\n",
    "    return np.hstack( [ax, ay])\n",
    "\n",
    "def action( xy_int , x0, y0, xy, yf ):\n",
    "    #computes the action of a curve\n",
    "    global theta, width, height\n",
    "    x_int, y_int = get_vars(xy_int)\n",
    "    x = np.hstack([x0,x_int,xf])\n",
    "    y = np.hstack([y0,y_int,yf])\n",
    "    n = len(x)\n",
    "    u = ( x[1:] - x[:n-1] )\n",
    "    v = ( y[1:] - y[:n-1] )\n",
    "    from numpy.polynomial.legendre import legval2d\n",
    "    V = legval2d(2*x[1:n-1]/width, 2*y[1:n-1]/height, theta)\n",
    "    out = 0.5*np.dot(u,u)\n",
    "    out += 0.5*np.dot(v,v)\n",
    "    out -= V.sum()\n",
    "    return out\n",
    "\n",
    "def EL_constraint( xy_int , x0, y0, xy, yf ):\n",
    "    #this is also the jacobian of the action\n",
    "    global theta, width, height\n",
    "    x_int, y_int = get_vars(xy_int)\n",
    "    x = np.hstack([x0,x_int,xf])\n",
    "    y = np.hstack([y0,y_int,yf])\n",
    "    n = len(x)\n",
    "    ax = x[2:] + x[0:n-2] - 2*x[1:n-1]\n",
    "    ay = y[2:] + y[0:n-2] - 2*y[1:n-1]\n",
    "    from numpy.polynomial.legendre import legder, legval2d\n",
    "    theta_x = legder( theta, m=1, axis=0)\n",
    "    theta_y = legder( theta, m=1, axis=1)\n",
    "    Vx = 2*legval2d( 2*x[1:n-1]/width, 2*y[1:n-1]/height, theta_x)/width\n",
    "    Vy = 2*legval2d( 2*x[1:n-1]/width, 2*y[1:n-1]/height, theta_y)/height\n",
    "    return -np.hstack([ax+Vx, ay+Vy])\n",
    "\n",
    "def jac_EL( xy_int , x0, y0, xy, yf):\n",
    "    #the jacobian of the EL constraint [ [A+Vxx, Vxy], [Vxy, A+Vyy] ]\n",
    "    global theta, width, height\n",
    "    x_int, y_int = get_vars(xy_int)\n",
    "    x = np.hstack([x0,x_int,xf])\n",
    "    y = np.hstack([y0,y_int,yf])\n",
    "    n = len(x)\n",
    "    from scipy import sparse\n",
    "    diags = np.ones((3,n))\n",
    "    diags[1,:] = -2*np.ones(n)\n",
    "    A = sparse.dia_matrix( (diags, [-1,0,1]) , shape = (n-2,n-2))\n",
    "    from numpy.polynomial.legendre import legder, legval2d\n",
    "    theta_xx = legder( theta, m=2, axis=0)\n",
    "    theta_yy = legder( theta, m=2, axis=1)\n",
    "    theta_xy = legder( legder( theta, axis=0 ) , axis=1 )\n",
    "    Vxx = 4*legval2d( 2*x[1:n-1]/width, 2*y[1:n-1]/height, theta_xx)/(width**2)\n",
    "    Vxx = sparse.dia_matrix( ( Vxx, 0), shape=(n-2,n-2) )\n",
    "    Vyy = 4*legval2d( 2*x[1:n-1]/width, 2*y[1:n-1]/height, theta_yy)/(height**2)\n",
    "    Vyy = sparse.dia_matrix( ( Vyy, 0), shape=(n-2,n-2) )\n",
    "    Vxy = 4*legval2d( 2*x[1:n-1]/width, 2*y[1:n-1]/height, theta_xy)/(width*height)\n",
    "    Vxy = sparse.dia_matrix( ( Vxy, 0), shape=(n-2,n-2) )\n",
    "    out = -sparse.vstack( [ sparse.hstack( [A+Vxx, Vxy] ) , sparse.hstack([Vxy, A+Vyy]) ] ) \n",
    "    return out.todense()\n",
    "    \n",
    "def callback(xy_int):\n",
    "    print \"Length = %f\" % length(dec_vars)\n",
    "    return 0\n",
    "\n",
    "def get_optimal_curve(x_begin, y_begin, x_end, y_end, n_steps, guess=None):\n",
    "    # computes the optimal curve which satisfies the dynamics.\n",
    "    global action, EL_constraint\n",
    "    if guess is None:\n",
    "        x_guess = np.linspace(x_begin, x_end, n_steps)[1:n_steps-1]\n",
    "        y_guess = np.linspace(y_begin, y_end, n_steps)[1:n_steps-1]\n",
    "        guess = np.hstack([x_guess,y_guess])\n",
    "    from scipy.optimize import minimize\n",
    "    constraint_list = []\n",
    "    constraint_list.append( {'type':'eq', 'fun':EL_constraint, 'args':(x_begin, y_begin, x_end, y_end),'jac':jac_EL})\n",
    "    res = minimize( length, guess, jac = jac_length,\n",
    "                   callback=callback, args=(x_begin,y_begin,x_end,y_end), method = 'SLSQP')\n",
    "    print res.message\n",
    "    x,y,epsilon = get_vars( res.x )\n",
    "    x = np.hstack([x_begin, x, x_end])\n",
    "    y = np.hstack([y_begin, y, y_end])\n",
    "    return x,y"
   ]
  },
  {
   "cell_type": "code",
   "execution_count": 165,
   "metadata": {
    "collapsed": false
   },
   "outputs": [
    {
     "name": "stdout",
     "output_type": "stream",
     "text": [
      "perturbation size = 3.118e-06\n",
      "testing jacobian for length\n",
      "error = 1.944e-10\n",
      "testing jacobian of action\n",
      "error = 1.853e-10\n",
      "testing jacobian of EL constraint\n",
      "error = 1.819e-14\n"
     ]
    }
   ],
   "source": [
    "\n",
    "x0 = np.random.randn()*width/4\n",
    "xf = np.random.randn()*width/4\n",
    "y0 = np.random.randn()*height/4\n",
    "yf = np.random.randn()*height/4\n",
    "\n",
    "x = np.random.randn(100) #np.linspace(x0, xf, 102)\n",
    "y = np.random.randn(100)#np.linspace(y0, yf, 102)\n",
    "xy_int = np.hstack( [ x, y] )\n",
    "pert = np.random.randn(len(xy_int))*1e-6\n",
    "print \"perturbation size = %.4g\" % np.abs(pert).max()\n",
    "error = length(xy_int+pert, x0, y0, xf, yf) - length(xy_int, x0, y0, xf, yf) \\\n",
    "    - np.dot( jac_length(xy_int, x0, y0, xf, yf) , pert )\n",
    "\n",
    "print \"testing jacobian for length\"\n",
    "print \"error = %.4g\" % error\n",
    "\n",
    "print \"testing jacobian of action\"\n",
    "error = action( xy_int+pert, x0, y0, xf, yf) - action(xy_int, x0, y0, xf, yf) \\\n",
    "    - np.dot( EL_constraint(xy_int, x0, y0, xf, yf), pert)\n",
    "print \"error = %.4g\" % error\n",
    "\n",
    "print \"testing jacobian of EL constraint\"\n",
    "A = ( EL_constraint(xy_int+pert, x0, y0, xf, yf) - EL_constraint(xy_int, x0, y0, xf, yf) )\n",
    "B = jac_EL(xy_int, x0, y0, xf, yf).dot(pert)\n",
    "print \"error = %0.4g\" % np.abs(A-B).max()"
   ]
  },
  {
   "cell_type": "code",
   "execution_count": 162,
   "metadata": {
    "collapsed": false
   },
   "outputs": [
    {
     "data": {
      "text/plain": [
       "[<matplotlib.lines.Line2D at 0x112ae6590>]"
      ]
     },
     "execution_count": 162,
     "metadata": {},
     "output_type": "execute_result"
    },
    {
     "data": {
      "image/png": "[encoded data removed]",
      "text/plain": [
       "<matplotlib.figure.Figure at 0x1106ce090>"
      ]
     },
     "metadata": {},
     "output_type": "display_data"
    }
   ],
   "source": [
    "curve_ind = 20\n",
    "plt.plot(x_data[curve_ind], y_data[curve_ind])"
   ]
  },
  {
   "cell_type": "code",
   "execution_count": 166,
   "metadata": {
    "collapsed": false
   },
   "outputs": [
    {
     "ename": "error",
     "evalue": "failed in converting 8th argument `g' of _slsqp.slsqp to C/Fortran array",
     "output_type": "error",
     "traceback": [
      "\u001b[0;31m---------------------------------------------------------------------------\u001b[0m",
      "\u001b[0;31merror\u001b[0m                                     Traceback (most recent call last)",
      "\u001b[0;32m<ipython-input-166-2c77f81c3bff>\u001b[0m in \u001b[0;36m<module>\u001b[0;34m()\u001b[0m\n\u001b[1;32m      5\u001b[0m \u001b[0my_end\u001b[0m \u001b[0;34m=\u001b[0m \u001b[0my_data\u001b[0m\u001b[0;34m[\u001b[0m\u001b[0mcurve_ind\u001b[0m\u001b[0;34m]\u001b[0m\u001b[0;34m[\u001b[0m\u001b[0;34m-\u001b[0m\u001b[0;36m1\u001b[0m\u001b[0;34m]\u001b[0m\u001b[0;34m\u001b[0m\u001b[0m\n\u001b[1;32m      6\u001b[0m \u001b[0;34m\u001b[0m\u001b[0m\n\u001b[0;32m----> 7\u001b[0;31m \u001b[0mx_pred\u001b[0m\u001b[0;34m,\u001b[0m\u001b[0my_pred\u001b[0m \u001b[0;34m=\u001b[0m \u001b[0mget_optimal_curve\u001b[0m\u001b[0;34m(\u001b[0m \u001b[0mx_begin\u001b[0m\u001b[0;34m,\u001b[0m \u001b[0my_begin\u001b[0m\u001b[0;34m,\u001b[0m \u001b[0mx_end\u001b[0m\u001b[0;34m,\u001b[0m \u001b[0my_end\u001b[0m\u001b[0;34m,\u001b[0m \u001b[0mn_steps\u001b[0m \u001b[0;34m)\u001b[0m\u001b[0;34m\u001b[0m\u001b[0m\n\u001b[0m",
      "\u001b[0;32m<ipython-input-164-fc1507161837>\u001b[0m in \u001b[0;36mget_optimal_curve\u001b[0;34m(x_begin, y_begin, x_end, y_end, n_steps, guess)\u001b[0m\n\u001b[1;32m     98\u001b[0m     \u001b[0mconstraint_list\u001b[0m\u001b[0;34m.\u001b[0m\u001b[0mappend\u001b[0m\u001b[0;34m(\u001b[0m \u001b[0;34m{\u001b[0m\u001b[0;34m'type'\u001b[0m\u001b[0;34m:\u001b[0m\u001b[0;34m'eq'\u001b[0m\u001b[0;34m,\u001b[0m \u001b[0;34m'fun'\u001b[0m\u001b[0;34m:\u001b[0m\u001b[0mEL_constraint\u001b[0m\u001b[0;34m,\u001b[0m \u001b[0;34m'args'\u001b[0m\u001b[0;34m:\u001b[0m\u001b[0;34m(\u001b[0m\u001b[0mx_begin\u001b[0m\u001b[0;34m,\u001b[0m \u001b[0my_begin\u001b[0m\u001b[0;34m,\u001b[0m \u001b[0mx_end\u001b[0m\u001b[0;34m,\u001b[0m \u001b[0my_end\u001b[0m\u001b[0;34m)\u001b[0m\u001b[0;34m,\u001b[0m\u001b[0;34m'jac'\u001b[0m\u001b[0;34m:\u001b[0m\u001b[0mjac_EL\u001b[0m\u001b[0;34m}\u001b[0m\u001b[0;34m)\u001b[0m\u001b[0;34m\u001b[0m\u001b[0m\n\u001b[1;32m     99\u001b[0m     res = minimize( length, guess, jac = jac_length,\n\u001b[0;32m--> 100\u001b[0;31m                    callback=callback, args=(x_begin,y_begin,x_end,y_end), method = 'SLSQP')\n\u001b[0m\u001b[1;32m    101\u001b[0m     \u001b[0;32mprint\u001b[0m \u001b[0mres\u001b[0m\u001b[0;34m.\u001b[0m\u001b[0mmessage\u001b[0m\u001b[0;34m\u001b[0m\u001b[0m\n\u001b[1;32m    102\u001b[0m     \u001b[0mx\u001b[0m\u001b[0;34m,\u001b[0m\u001b[0my\u001b[0m\u001b[0;34m,\u001b[0m\u001b[0mepsilon\u001b[0m \u001b[0;34m=\u001b[0m \u001b[0mget_vars\u001b[0m\u001b[0;34m(\u001b[0m \u001b[0mres\u001b[0m\u001b[0;34m.\u001b[0m\u001b[0mx\u001b[0m \u001b[0;34m)\u001b[0m\u001b[0;34m\u001b[0m\u001b[0m\n",
      "\u001b[0;32m/usr/local/lib/python2.7/site-packages/scipy/optimize/_minimize.pyc\u001b[0m in \u001b[0;36mminimize\u001b[0;34m(fun, x0, args, method, jac, hess, hessp, bounds, constraints, tol, callback, options)\u001b[0m\n\u001b[1;32m    433\u001b[0m     \u001b[0;32melif\u001b[0m \u001b[0mmeth\u001b[0m \u001b[0;34m==\u001b[0m \u001b[0;34m'slsqp'\u001b[0m\u001b[0;34m:\u001b[0m\u001b[0;34m\u001b[0m\u001b[0m\n\u001b[1;32m    434\u001b[0m         return _minimize_slsqp(fun, x0, args, jac, bounds,\n\u001b[0;32m--> 435\u001b[0;31m                                constraints, callback=callback, **options)\n\u001b[0m\u001b[1;32m    436\u001b[0m     \u001b[0;32melif\u001b[0m \u001b[0mmeth\u001b[0m \u001b[0;34m==\u001b[0m \u001b[0;34m'dogleg'\u001b[0m\u001b[0;34m:\u001b[0m\u001b[0;34m\u001b[0m\u001b[0m\n\u001b[1;32m    437\u001b[0m         return _minimize_dogleg(fun, x0, args, jac, hess,\n",
      "\u001b[0;32m/usr/local/lib/python2.7/site-packages/scipy/optimize/slsqp.pyc\u001b[0m in \u001b[0;36m_minimize_slsqp\u001b[0;34m(func, x0, args, jac, bounds, constraints, maxiter, ftol, iprint, disp, eps, callback, **unknown_options)\u001b[0m\n\u001b[1;32m    405\u001b[0m \u001b[0;34m\u001b[0m\u001b[0m\n\u001b[1;32m    406\u001b[0m         \u001b[0;31m# Call SLSQP\u001b[0m\u001b[0;34m\u001b[0m\u001b[0;34m\u001b[0m\u001b[0m\n\u001b[0;32m--> 407\u001b[0;31m         \u001b[0mslsqp\u001b[0m\u001b[0;34m(\u001b[0m\u001b[0mm\u001b[0m\u001b[0;34m,\u001b[0m \u001b[0mmeq\u001b[0m\u001b[0;34m,\u001b[0m \u001b[0mx\u001b[0m\u001b[0;34m,\u001b[0m \u001b[0mxl\u001b[0m\u001b[0;34m,\u001b[0m \u001b[0mxu\u001b[0m\u001b[0;34m,\u001b[0m \u001b[0mfx\u001b[0m\u001b[0;34m,\u001b[0m \u001b[0mc\u001b[0m\u001b[0;34m,\u001b[0m \u001b[0mg\u001b[0m\u001b[0;34m,\u001b[0m \u001b[0ma\u001b[0m\u001b[0;34m,\u001b[0m \u001b[0macc\u001b[0m\u001b[0;34m,\u001b[0m \u001b[0mmajiter\u001b[0m\u001b[0;34m,\u001b[0m \u001b[0mmode\u001b[0m\u001b[0;34m,\u001b[0m \u001b[0mw\u001b[0m\u001b[0;34m,\u001b[0m \u001b[0mjw\u001b[0m\u001b[0;34m)\u001b[0m\u001b[0;34m\u001b[0m\u001b[0m\n\u001b[0m\u001b[1;32m    408\u001b[0m \u001b[0;34m\u001b[0m\u001b[0m\n\u001b[1;32m    409\u001b[0m         \u001b[0;31m# call callback if major iteration has incremented\u001b[0m\u001b[0;34m\u001b[0m\u001b[0;34m\u001b[0m\u001b[0m\n",
      "\u001b[0;31merror\u001b[0m: failed in converting 8th argument `g' of _slsqp.slsqp to C/Fortran array"
     ]
    }
   ],
   "source": [
    "n_steps = len( x_data[curve_ind])\n",
    "x_begin = x_data[curve_ind][0]\n",
    "y_begin = y_data[curve_ind][0]\n",
    "x_end = x_data[curve_ind][-1]\n",
    "y_end = y_data[curve_ind][-1]\n",
    "\n",
    "x_pred,y_pred = get_optimal_curve( x_begin, y_begin, x_end, y_end, n_steps )"
   ]
  },
  {
   "cell_type": "code",
   "execution_count": null,
   "metadata": {
    "collapsed": true
   },
   "outputs": [],
   "source": []
  }
 ],
 "metadata": {
  "kernelspec": {
   "display_name": "Python 2",
   "language": "python",
   "name": "python2"
  },
  "language_info": {
   "codemirror_mode": {
    "name": "ipython",
    "version": 2
   },
   "file_extension": ".py",
   "mimetype": "text/x-python",
   "name": "python",
   "nbconvert_exporter": "python",
   "pygments_lexer": "ipython2",
   "version": "2.7.11"
  }
 },
 "nbformat": 4,
 "nbformat_minor": 0
}
