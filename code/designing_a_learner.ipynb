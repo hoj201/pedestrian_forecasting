{
 "cells": [
  {
   "cell_type": "code",
   "execution_count": 2,
   "metadata": {
    "collapsed": true
   },
   "outputs": [],
   "source": [
    "import numpy as np"
   ]
  },
  {
   "cell_type": "markdown",
   "metadata": {},
   "source": [
    "#Linear regression formulation\n",
    "Assuming a 1D Lagragian of the form $L_\\theta(x,y,u,v) = \\frac{1}{2} (u^2+v^2)- \\sum_{k_1,k_2} \\theta_{k_1,k_2} x^{k_1} y^{k_2}$ the EL-equations are given by\n",
    "$$\n",
    "    \\ddot{x} = - \\sum_{k_1=1,k_2=0}^{N,N} \\theta_{k_1,k_2} k_1 x^{k_1-1} y^{k_2} \\\\\n",
    "    \\ddot{y} = - \\sum_{k_1=0,k_2=1}^{N,N} \\theta_{k_1,k_2} k_2 x^{k_1} y^{k_2-1}\n",
    "$$   \n",
    "\n",
    "This inspires the cost function $C = C^x + C^y$ where\n",
    "$$\n",
    "    C^x(\\theta ) = \\frac{1}{2} \\sum_i \\left( \\ddot{x}_i + \\sum_{k_1=1,k_2=0}^{N,N} \\theta_{k_1,k_2} k_1 x_i^{k_1-1} y_i^{k_2} \\right)^2 \\\\\n",
    "    C^y(\\theta ) = \\frac{1}{2} \\sum_i \\left( \\ddot{y}_i + \\sum_{k_1=1,k_2=0}^{N,N} \\theta_{k_1,k_2} k_2 x_i^{k_1} y_i^{k_2-1} \\right)^2\n",
    "$$\n",
    "\n",
    "Taking the gradient we find\n",
    "$\\partial C / \\partial \\theta_{k_1,k_2} = \\partial C^x / \\partial \\theta_{k_1,k_2} + \\partial C^y / \\partial \\theta_{k_1,k_2} $ with\n",
    "$$\n",
    "    \\frac{\\partial C^x}{\\partial \\theta_{j_1,j_2} } = \\sum_i \\left( \\ddot{x}_i + \\sum_{k_1=1,k_2=0}^{N,N} \\theta_{k_1,k_2} k_1 x_i^{k_1-1} y_i^{k_2} \\right) x^{j_1-1} y^{j_2}\\\\\n",
    "    \\frac{\\partial C^y}{\\partial \\theta_{j_1,j_2} } = \\sum_i \\left( \\ddot{y}_i + \\sum_{k_1=1,k_2=0}^{N,N} \\theta_{k_1,k_2} k_2 x_i^{k_1} y_i^{k_2-1} \\right) x^{j_1} y^{j_2-1}\n",
    "$$"
   ]
  },
  {
   "cell_type": "markdown",
   "metadata": {},
   "source": [
    "# Nonlinear regression formulation\n",
    "Again, we assume a Lagrangian of the form $L_\\theta(x,y,u,v) = \\frac{1}{2} (u^2 + v^2) - V(x,y;\\theta)$ with\n",
    "$$\n",
    "    V(x,y;\\theta) = \\sum_{k_1,k_2} \\theta_{k_1,k_2} x^{k_1} y^{k_2}.\n",
    "$$\n",
    "Given observations $\\{ (q_i(0),\\dot{q}_i(0) , q_i(1) ) \\}_i$We consider the cost function\n",
    "$$\n",
    "    Q(\\theta) = \\sum_{i} \\| q_i(1) - \\hat{q}_i(1) \\|_{L^1}\n",
    "$$\n",
    "Where $\\hat{q}_i(1)$ is obtained from $q_i(0)$ and $\\dot{q}_i(0)$ by solving the Euler-Lagrange equations \n",
    "\n",
    "The gradient of $Q$ is\n",
    "$$\n",
    "    \\frac{ \\partial Q}{\\partial \\theta} =\n",
    "       - \\sum_i {\\rm sign}( x_i(1) - \\hat{x}_i(1) ) \\frac{ \\partial \\hat{x}_i(1) }{\\partial \\theta}\n",
    "       + {\\rm sign}( y_i(1) - \\hat{y}_i(1) ) \\frac{ \\partial \\hat{y}_i(1) }{\\partial \\theta}\n",
    "$$\n",
    "\n",
    "Explicitly, we get $\\partial_\\theta \\hat{x}(1)$ and $\\partial_\\theta \\hat{y}(1)$ from solving the ODE\n",
    "$$\n",
    "    \\frac{dx}{dt} = u \\\\\n",
    "    \\frac{dy}{dt} = v \\\\\n",
    "    \\frac{du}{dt} = - \\sum_{k_1=1,k_2=0} \\theta_{k_1,k_2} k_1 x^{k_1-1} y^{k_2} \\\\\n",
    "    \\frac{dv}{dt} = - \\sum_{k_1=0,k_2=1} \\theta_{k_1,k_2} k_2 x^{k_1} y^{k_2-1} \\\\\n",
    "    \\frac{d}{dt} \\left( \\frac{\\partial x}{\\partial \\theta_{k_1,k_2}} \\right) = \\frac{\\partial u}{\\partial \\theta_{k_1,k_2} } \\\\\n",
    "    \\frac{d}{dt} \\left( \\frac{\\partial y}{\\partial \\theta_{k_1,k_2}} \\right) = \\frac{\\partial v}{\\partial \\theta_{k_1,k_2} } \\\\\n",
    "    \\frac{d}{dt} \\left( \\frac{\\partial u}{\\partial \\theta_{k_1,k_2}} \\right) = - x^{k_1-1} y^{k_2} \\\\\n",
    "    \\frac{d }{dt} \\left( \\frac{\\partial v}{\\partial \\theta_{k_1,k_2}} \\right) = - x^{k_1} y^{k_2-1}\n",
    "$$\n",
    "with the initial condition $\\delta q(0) = 0$ and $\\delta \\dot{q}(0) = 0$\n",
    "We can use stochastic gradient descent to minimize $Q$."
   ]
  },
  {
   "cell_type": "code",
   "execution_count": 39,
   "metadata": {
    "collapsed": true
   },
   "outputs": [],
   "source": [
    "def ode_func(theta,s)\n",
    "\n",
    "def partial_Q(theta,x0,y0,u0,v0,x1,y1):\n",
    "    #produces the gradient of Q_i(\\theta,x)\n",
    "    from scipy import odeint\n",
    "    s0 = np.array([x0,y0,u0,v0,0.,0.,0.,0.])  #not enough zeros,  Need one for each theta\n",
    "    s1 = odeint( lambda s: ode_func(theta,s) , s0 , [0.0,1.])[1]\n",
    "    x1_pred = s1[0]\n",
    "    y1_pred = s1[1]\n",
    "    return np.sign(x1-x1_pred)*delta_x1 + np.sign(y1-y1_pred)*delta_y1 #still need to get delta_x1 and delta_y1\n",
    "    \n",
    "    "
   ]
  },
  {
   "cell_type": "markdown",
   "metadata": {},
   "source": [
    "Now compute the functionals for a variety of points using parallelization."
   ]
  },
  {
   "cell_type": "code",
   "execution_count": 48,
   "metadata": {
    "collapsed": false
   },
   "outputs": [
    {
     "name": "stdout",
     "output_type": "stream",
     "text": [
      "0.615051984787\n",
      "12100\n",
      "12100\n"
     ]
    }
   ],
   "source": [
    "#from joblib import Parallel, delayed\n",
    "N_points = 308\n",
    "x_arr = np.random.randn(N_points)\n",
    "dx_arr = np.random.randn(N_points)\n",
    "ddx_arr = np.random.randn(N_points)\n",
    "y_arr = np.random.randn(N_points)\n",
    "dy_arr = np.random.randn(N_points)\n",
    "ddy_arr = np.random.randn(N_points)\n",
    "\n",
    "from time import time\n",
    "arg_gen = zip(x_arr,dx_arr,ddx_arr,y_arr,dy_arr,ddy_arr) \n",
    "t0 = time()\n",
    "ells = []\n",
    "for arg in arg_gen:\n",
    "    ells += EL_functional_2d( *arg )\n",
    "\n",
    "t1 = time()\n",
    "t = t1-t0\n",
    "print t\n",
    "print ells[0].size\n",
    "print 22*22*5*5"
   ]
  },
  {
   "cell_type": "markdown",
   "metadata": {},
   "source": [
    "Now compute $Q = \\sum_{(x,v,a)}\\ell(x,v,a) \\ell(x,v,a)^T$"
   ]
  },
  {
   "cell_type": "code",
   "execution_count": 53,
   "metadata": {
    "collapsed": false
   },
   "outputs": [
    {
     "name": "stdout",
     "output_type": "stream",
     "text": [
      "95.6986968517\n"
     ]
    }
   ],
   "source": [
    "new_ells = np.stack( ells )   \n",
    "new_ells.shape\n",
    "# We want the array \\sum_{k} x_i[k] x_j[k]\n",
    "from time import time\n",
    "t0 = time()\n",
    "Q = np.einsum('ki,kj->ij', new_ells, new_ells )\n",
    "print time() - t0"
   ]
  },
  {
   "cell_type": "markdown",
   "metadata": {
    "collapsed": false
   },
   "source": [
    "With $deg_x = 20, deg_v = 3$ it took 100 seconds to compute Q for 300 points.  We need to compute Q for $N=252954$ which is $84318$ seconds which is $23$ hours"
   ]
  },
  {
   "cell_type": "code",
   "execution_count": 58,
   "metadata": {
    "collapsed": false
   },
   "outputs": [],
   "source": [
    "f = lambda x,y: [2*x,3*y]"
   ]
  },
  {
   "cell_type": "code",
   "execution_count": 60,
   "metadata": {
    "collapsed": false
   },
   "outputs": [
    {
     "name": "stdout",
     "output_type": "stream",
     "text": [
      "4\n",
      "9\n"
     ]
    }
   ],
   "source": [
    "x,y = f(2,3)\n",
    "print x\n",
    "print y"
   ]
  },
  {
   "cell_type": "code",
   "execution_count": null,
   "metadata": {
    "collapsed": true
   },
   "outputs": [],
   "source": []
  }
 ],
 "metadata": {
  "kernelspec": {
   "display_name": "Python 2",
   "language": "python",
   "name": "python2"
  },
  "language_info": {
   "codemirror_mode": {
    "name": "ipython",
    "version": 2
   },
   "file_extension": ".py",
   "mimetype": "text/x-python",
   "name": "python",
   "nbconvert_exporter": "python",
   "pygments_lexer": "ipython2",
   "version": "2.7.11"
  }
 },
 "nbformat": 4,
 "nbformat_minor": 0
}
