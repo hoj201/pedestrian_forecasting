{
 "cells": [
  {
   "cell_type": "code",
   "execution_count": 2,
   "metadata": {
    "collapsed": true
   },
   "outputs": [],
   "source": [
    "import numpy as np"
   ]
  },
  {
   "cell_type": "markdown",
   "metadata": {},
   "source": [
    "We'd like to compute the $H_k(x)$ for a fixed $x$ for $k=0,...,N$ in a vectorized way.  We could do this using the recurrence relation $H_{n+1}(x) = 2x H_{n}(x) - 2n H_{n-1}(x)$ with $H_0(x) = 1, H_1(x) = 2x$."
   ]
  },
  {
   "cell_type": "code",
   "execution_count": 3,
   "metadata": {
    "collapsed": false
   },
   "outputs": [],
   "source": [
    "def eval_Hermites(x,deg):\n",
    "    #computes the Hermite polynomials 0,...,deg at an array of points x.\n",
    "    #returns a matrix of size (len(x),deg)\n",
    "    H = np.zeros(deg+2)\n",
    "    H[0] = 1.0\n",
    "    H[1] = 2*x\n",
    "    for n in range(2,deg+2):\n",
    "        H[n] = 2*x*H[n-1]-2*(n-1)*H[n-2]\n",
    "    return H"
   ]
  },
  {
   "cell_type": "code",
   "execution_count": 4,
   "metadata": {
    "collapsed": false
   },
   "outputs": [
    {
     "name": "stdout",
     "output_type": "stream",
     "text": [
      "0.0\n"
     ]
    }
   ],
   "source": [
    "x = np.random.randn(1)\n",
    "deg = 20\n",
    "coefs = np.random.randn(deg+2)\n",
    "h_series = np.polynomial.hermite.Hermite(coefs)\n",
    "print (h_series(x)- np.dot( coefs, eval_Hermites(x,deg))).max()\n"
   ]
  },
  {
   "cell_type": "markdown",
   "metadata": {},
   "source": [
    "We'd also like to compute the derivatives $H_k'(x)$ using the formula $H'_{n}(x) = 2n H_{n-1}(x)$."
   ]
  },
  {
   "cell_type": "code",
   "execution_count": 5,
   "metadata": {
    "collapsed": false
   },
   "outputs": [
    {
     "name": "stdout",
     "output_type": "stream",
     "text": [
      "[ -1.85045555e+13]\n",
      "-1.85045554899e+13\n"
     ]
    }
   ],
   "source": [
    "derivative_matrix = np.diag( 2*(np.arange(deg+1)+1),k=-1 )\n",
    "dh_series = h_series.deriv(1)\n",
    "print dh_series(x)\n",
    "print np.dot( coefs , derivative_matrix.dot(eval_Hermites(x,deg)) )"
   ]
  },
  {
   "cell_type": "markdown",
   "metadata": {},
   "source": [
    "Finally, we'd like to compute $x H'_n(x)$"
   ]
  },
  {
   "cell_type": "code",
   "execution_count": 6,
   "metadata": {
    "collapsed": false
   },
   "outputs": [
    {
     "name": "stdout",
     "output_type": "stream",
     "text": [
      "[ -1.54773971e+13]\n",
      "-1.54773970758e+13\n"
     ]
    }
   ],
   "source": [
    "print dh_series(x)*x\n",
    "print np.dot(coefs , derivative_matrix.dot(eval_Hermites(x,deg))*x )"
   ]
  },
  {
   "cell_type": "markdown",
   "metadata": {},
   "source": [
    "Assuming a 1D Lagragian of the form $L_\\theta(x,\\dot{x}) = \\sum_{k_1,k_2} \\theta_{k_1,k_2} H_{k_1}(x) H_{k_2}(\\dot{x})$\n",
    "we'd like to compute the functional $\\ell^1(x,\\dot{x},\\ddot{x})$ defined such that\n",
    "$$\\langle \\ell^1(x,\\dot{x},\\ddot{x}) , \\theta \\rangle = \\frac{d}{dt} \\left( \\frac{ \\partial L }{\\partial \\dot{x}} \\right)(x,\\dot{x},\\ddot{x}) - \\frac{ \\partial L }{\\partial x} (x,\\dot{x}).$$"
   ]
  },
  {
   "cell_type": "code",
   "execution_count": 39,
   "metadata": {
    "collapsed": true
   },
   "outputs": [],
   "source": [
    "def EL_functional(x,v,a, deg_x = 20 , deg_v = 3):\n",
    "    #computes the functional \\ell^x(x,v,a)\n",
    "    #only works if x,v,a are a single point.\n",
    "    #you should be able to vector-rize this using parallel for-loops.\n",
    "    partial_x = np.diag( 2*(np.arange(deg_x+1)+1),k=-1 )\n",
    "    partial_v = np.diag( 2*(np.arange(deg_v+1)+1),k=-1 )\n",
    "    h_of_x = eval_Hermites(x,deg_x)\n",
    "    h_prime_of_x = partial_x.dot(h_of_x)\n",
    "    h_of_v = eval_Hermites(v,deg_v)\n",
    "    h_prime_of_v = partial_v.dot(h_of_v)\n",
    "    h_double_prime_of_v = partial_v.dot(h_prime_of_v)\n",
    "    t1 = np.kron( h_prime_of_x , h_prime_of_v*v )\n",
    "    t2 = np.kron( h_of_x , h_double_prime_of_v*a )\n",
    "    t3 = - np.kron( h_prime_of_x , h_of_v )\n",
    "    return t1+t2+t3\n",
    "\n",
    "def EL_functional_2d(x,vx,ax,y,vy,ay,deg_x=20,deg_v=3):\n",
    "    h_of_x = eval_Hermites(x,deg_x)\n",
    "    h_of_y = eval_Hermites(y,deg_x)\n",
    "    h_of_vx = eval_Hermites(vx,deg_v)\n",
    "    h_of_vy = eval_Hermites(vy,deg_v)\n",
    "    e1 = reduce( np.kron, [EL_functional(x,vx,ax) , h_of_y , h_of_vy])\n",
    "    e2 = reduce( np.kron, [h_of_x , h_of_vx , EL_functional(y,vy,ay)])\n",
    "    return [e1,e2]"
   ]
  },
  {
   "cell_type": "markdown",
   "metadata": {},
   "source": [
    "Now compute the functionals for a variety of points using parallelization."
   ]
  },
  {
   "cell_type": "code",
   "execution_count": 48,
   "metadata": {
    "collapsed": false
   },
   "outputs": [
    {
     "name": "stdout",
     "output_type": "stream",
     "text": [
      "0.615051984787\n",
      "12100\n",
      "12100\n"
     ]
    }
   ],
   "source": [
    "#from joblib import Parallel, delayed\n",
    "N_points = 308\n",
    "x_arr = np.random.randn(N_points)\n",
    "dx_arr = np.random.randn(N_points)\n",
    "ddx_arr = np.random.randn(N_points)\n",
    "y_arr = np.random.randn(N_points)\n",
    "dy_arr = np.random.randn(N_points)\n",
    "ddy_arr = np.random.randn(N_points)\n",
    "\n",
    "from time import time\n",
    "arg_gen = zip(x_arr,dx_arr,ddx_arr,y_arr,dy_arr,ddy_arr) \n",
    "t0 = time()\n",
    "ells = []\n",
    "for arg in arg_gen:\n",
    "    ells += EL_functional_2d( *arg )\n",
    "\n",
    "t1 = time()\n",
    "t = t1-t0\n",
    "print t\n",
    "print ells[0].size\n",
    "print 22*22*5*5"
   ]
  },
  {
   "cell_type": "markdown",
   "metadata": {},
   "source": [
    "Now compute $Q = \\sum_{(x,v,a)}\\ell(x,v,a) \\ell(x,v,a)^T$"
   ]
  },
  {
   "cell_type": "code",
   "execution_count": 53,
   "metadata": {
    "collapsed": false
   },
   "outputs": [
    {
     "name": "stdout",
     "output_type": "stream",
     "text": [
      "95.6986968517\n"
     ]
    }
   ],
   "source": [
    "new_ells = np.stack( ells )   \n",
    "new_ells.shape\n",
    "# We want the array \\sum_{k} x_i[k] x_j[k]\n",
    "from time import time\n",
    "t0 = time()\n",
    "Q = np.einsum('ki,kj->ij', new_ells, new_ells )\n",
    "print time() - t0"
   ]
  },
  {
   "cell_type": "markdown",
   "metadata": {
    "collapsed": false
   },
   "source": [
    "With $deg_x = 20, deg_v = 3$ it took 100 seconds to compute Q for 300 points.  We need to compute Q for $N=252954$ which is $84318$ seconds which is $23$ hours"
   ]
  },
  {
   "cell_type": "code",
   "execution_count": 58,
   "metadata": {
    "collapsed": false
   },
   "outputs": [],
   "source": [
    "f = lambda x,y: [2*x,3*y]"
   ]
  },
  {
   "cell_type": "code",
   "execution_count": 60,
   "metadata": {
    "collapsed": false
   },
   "outputs": [
    {
     "name": "stdout",
     "output_type": "stream",
     "text": [
      "4\n",
      "9\n"
     ]
    }
   ],
   "source": [
    "x,y = f(2,3)\n",
    "print x\n",
    "print y"
   ]
  },
  {
   "cell_type": "code",
   "execution_count": null,
   "metadata": {
    "collapsed": true
   },
   "outputs": [],
   "source": []
  }
 ],
 "metadata": {
  "kernelspec": {
   "display_name": "Python 2",
   "language": "python",
   "name": "python2"
  },
  "language_info": {
   "codemirror_mode": {
    "name": "ipython",
    "version": 2
   },
   "file_extension": ".py",
   "mimetype": "text/x-python",
   "name": "python",
   "nbconvert_exporter": "python",
   "pygments_lexer": "ipython2",
   "version": "2.7.11"
  }
 },
 "nbformat": 4,
 "nbformat_minor": 0
}
