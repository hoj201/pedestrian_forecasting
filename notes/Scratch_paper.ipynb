{
 "cells": [
  {
   "cell_type": "code",
   "execution_count": 1,
   "metadata": {
    "collapsed": false
   },
   "outputs": [],
   "source": [
    "import sympy\n",
    "sympy.init_printing()"
   ]
  },
  {
   "cell_type": "markdown",
   "metadata": {},
   "source": [
    "# Computation of integration of Gaussian over bounding box\n",
    "\n",
    "Given an interval, $[x_{lb},x_{ub}]$\n",
    "We find\n",
    "\\begin{align*}\n",
    "    I(\\sigma, \\mu, x_{lb}, x_{ub}) &= (2\\pi \\sigma^2)^{-1/2} \\int_{x_{lb}}^{x_{ub}}\n",
    "        \\exp \\left( \\frac{-\\| x - \\mu \\|^2}{2 \\sigma^2} \\right) dx \\\\\n",
    "        &= \n",
    "\\end{align*}"
   ]
  },
  {
   "cell_type": "code",
   "execution_count": 13,
   "metadata": {
    "collapsed": false
   },
   "outputs": [
    {
     "data": {
      "image/png": "[encoded data removed]",
      "text/latex": [
       "$$\\frac{\\sqrt{2}}{2 \\sqrt{\\pi} \\sigma} e^{- \\frac{\\left(- \\mu + x\\right)^{2}}{2 \\sigma^{2}}}$$"
      ],
      "text/plain": [
       "                2 \n",
       "       -(-μ + x)  \n",
       "       ───────────\n",
       "              2   \n",
       "  ___      2⋅σ    \n",
       "╲╱ 2 ⋅ℯ           \n",
       "──────────────────\n",
       "        ___       \n",
       "    2⋅╲╱ π ⋅σ     "
      ]
     },
     "execution_count": 13,
     "metadata": {},
     "output_type": "execute_result"
    }
   ],
   "source": [
    "x, mu, x_lb, x_ub = sympy.symbols('x mu x_{lb} x_{ub}')\n",
    "sigma = sympy.symbols('sigma', real=True, positive=True)\n",
    "integrand = sympy.exp( -(x-mu)**2 / (2*sigma**2)) / sympy.sqrt(2*sympy.pi*sigma**2)\n",
    "integrand"
   ]
  },
  {
   "cell_type": "code",
   "execution_count": 14,
   "metadata": {
    "collapsed": false
   },
   "outputs": [
    {
     "data": {
      "image/png": "[encoded data removed]",
      "text/latex": [
       "$$\\frac{1}{2} \\operatorname{erf}{\\left (\\frac{\\sqrt{2} \\left(\\mu - x_{{lb}}\\right)}{2 \\sigma} \\right )} - \\frac{1}{2} \\operatorname{erf}{\\left (\\frac{\\sqrt{2} \\left(\\mu - x_{{ub}}\\right)}{2 \\sigma} \\right )}$$"
      ],
      "text/plain": [
       "   ⎛  ___             ⎞      ⎛  ___             ⎞\n",
       "   ⎜╲╱ 2 ⋅(μ - x_{lb})⎟      ⎜╲╱ 2 ⋅(μ - x_{ub})⎟\n",
       "erf⎜──────────────────⎟   erf⎜──────────────────⎟\n",
       "   ⎝       2⋅σ        ⎠      ⎝       2⋅σ        ⎠\n",
       "─────────────────────── - ───────────────────────\n",
       "           2                         2           "
      ]
     },
     "execution_count": 14,
     "metadata": {},
     "output_type": "execute_result"
    }
   ],
   "source": [
    "sympy.simplify(sympy.integrate(integrand, (x, x_lb, x_ub)))"
   ]
  },
  {
   "cell_type": "markdown",
   "metadata": {},
   "source": [
    "# Computation of $\\Pr(x_0, Lin, \\hat{x}_0, \\hat{v}_0)$\n",
    "We want to derive the expression for the joing distribution $\\Pr(x_0, Lin, \\hat{x}_0, \\hat{v}_0)$.  Using the PGM we find\n",
    "$$\n",
    "    \\Pr(x_0, Lin, \\hat{x}_0, \\hat{v}_0) = \\Pr(Lin) \\Pr( x_0 \\mid Lin) \\Pr( \\hat{x}_0 \\mid x_0 )  \\int  \\Pr( v_0 \\mid Lin, x_0) \\Pr( \\hat{v}_0 \\mid v_0) dv_0\n",
    "$$\n",
    "Where the posteriors are given by\n",
    "\\begin{align*}\n",
    "    \\Pr( x_t \\mid Lin , x_0, v_0 ) &= \\delta( x_t  - (x_0 + t v_0 ) ) \\\\\n",
    "    \\Pr( x_0 \\mid Lin ) &\\sim \\mathcal{U}(D) \\\\\n",
    "    \\Pr( v_0 \\mid x_0, Lin ) &\\sim \\mathcal{N}(0, \\sigma_L^2 ) \\\\\n",
    "    \\Pr( \\hat{x}_0 \\mid x_0 ) &\\sim \\mathcal{N}(0, \\sigma_x^2 ) \\\\\n",
    "    \\Pr( \\hat{v}_0 \\mid v_0 ) &\\sim \\mathcal{N}(0, \\sigma_v^2 )\n",
    "\\end{align*}\n",
    "where $D$ is a rectangular domain.\n",
    "We can integrate the integral to get the closed form solution\n",
    "$$\n",
    "    \\Pr(x_0, Lin, \\hat{x}_0, \\hat{v}_0) = \\frac{ \\Pr(Lin) \\chi( x_0 \\in D)  }{ 4\\pi^2 |D| \\sigma_x^2 (\\sigma_v^2 + \\sigma_L^2) } \\exp\\left( - \\frac{\\| \\hat{x}_0 - x_0 \\|^2 }{2 \\pi \\sigma_x^2} - \\frac{ \\| \\hat{v}_0 \\|^2 / }{ 2(\\sigma_v^2 + \\sigma_L^2)}\\right)\n",
    "$$\n",
    "where $|D|$ is the area of the domain.\n"
   ]
  },
  {
   "cell_type": "markdown",
   "metadata": {},
   "source": [
    "# Computation of $\\Pr(x_t, Lin, \\hat{x}_0, \\hat{v}_0)$\n",
    "We want to derive the expression for the joing distribution $\\Pr(x_t, Lin, \\hat{x}_0, \\hat{v}_0)$.  Using the PGM we find\n",
    "$$\n",
    "    \\Pr(x_t, Lin, \\hat{x}_0, \\hat{v}_0) = \\Pr(Lin) \\int \\Pr(x_t \\mid Lin, x_0, v_0) \\Pr( x_0 \\mid Lin) \\Pr( v_0 \\mid Lin, x_0) \\Pr( \\hat{x}_0 \\mid x_0 ) \\Pr( \\hat{v}_0 \\mid v_0) dx_0\\, dv_0\n",
    "$$\n",
    "Where\n",
    "\\begin{align*}\n",
    "    \\Pr( x_t \\mid Lin , x_0, v_0 ) &= \\delta( x_t  - (x_0 + t v_0 ) )\n",
    "\\end{align*}\n",
    "We'd like an expression for this integral in terms of elementary and special functions.\n",
    "The presence of the Dirac-delta distibution makes it easy to integrate with respect to $dx_0$.\n",
    "The presence of the uniform distribution merely limits the domain of integration\n",
    "This yeilds the integral with respect to $dv_0$\n",
    "$$\n",
    "    \\Pr(x_t, Lin, \\hat{x}_0, \\hat{v}_0) = \\frac{\\Pr(Lin)}{ | D |} \\int_R \\Pr( v_0 \\mid Lin, x_0) \\Pr( \\hat{x}_0 \\mid x_0 ) \\Pr( \\hat{v}_0 \\mid v_0) dv_0\n",
    "$$\n",
    "where $x_0 = x_t - t v_0$ and $R = (x_t-D)/t$.\n",
    "All the terms under the integration are Guassian."
   ]
  },
  {
   "cell_type": "code",
   "execution_count": 13,
   "metadata": {
    "collapsed": false
   },
   "outputs": [],
   "source": [
    "x_t, x_hat = sympy.symbols('x_t \\hat{x}_0')\n",
    "t, w = sympy.symbols('t w')\n",
    "v, v_hat = sympy.symbols('v_0 \\hat{v}_0')\n",
    "sigma_x, sigma_v, sigma_L = sympy.symbols('\\sigma_x \\sigma_v \\sigma_L')\n",
    "G1 = sympy.exp( -(x_hat - x_t + t*v)**2 / (2*sigma_x**2))\n",
    "G2 = sympy.exp( -(v_hat - v)**2 / (2*(sigma_v)**2))\n",
    "G3 = sympy.exp( -v**2/ (2*sigma_L**2))"
   ]
  },
  {
   "cell_type": "code",
   "execution_count": 14,
   "metadata": {
    "collapsed": false
   },
   "outputs": [],
   "source": [
    "integrand = sympy.simplify(G1*G2*G3)"
   ]
  },
  {
   "cell_type": "code",
   "execution_count": 15,
   "metadata": {
    "collapsed": false
   },
   "outputs": [],
   "source": [
    "to_solve = sympy.Integral( integrand, (v, (x_t-w/2)/t, (x_t+w/2)/t ) )"
   ]
  },
  {
   "cell_type": "markdown",
   "metadata": {},
   "source": [
    "We want to solve the integral:"
   ]
  },
  {
   "cell_type": "code",
   "execution_count": 16,
   "metadata": {
    "collapsed": false
   },
   "outputs": [
    {
     "data": {
      "image/png": "[encoded data removed]",
      "text/latex": [
       "$$\\int_{\\frac{1}{t} \\left(- \\frac{w}{2} + x_{t}\\right)}^{\\frac{1}{t} \\left(\\frac{w}{2} + x_{t}\\right)} e^{- \\frac{1}{2 \\sigma_{x}^{2}} \\left(\\hat{x}_{0} + t v_{0} - x_{t}\\right)^{2} - \\frac{\\left(\\hat{v}_{0} - v_{0}\\right)^{2}}{2 \\sigma_{v}^{2}} - \\frac{v_{0}^{2}}{2 \\sigma_{L}^{2}}}\\, dv_{0}$$"
      ],
      "text/plain": [
       " w                                                                          \n",
       " ─ + x_t                                                                    \n",
       " 2                                                                          \n",
       " ───────                                                                    \n",
       "    t                                                                       \n",
       "    ⌠                                                                       \n",
       "    ⎮                               2                  2         2          \n",
       "    ⎮        (\\hat{x}₀ + t⋅v₀ - x_t)    (\\hat{v}₀ - v₀)        v₀           \n",
       "    ⎮      - ──────────────────────── - ──────────────── - ───────────      \n",
       "    ⎮                        2                      2                2      \n",
       "    ⎮               2⋅\\sigmaₓ              2⋅\\sigmaᵥ       2⋅\\sigma_L       \n",
       "    ⎮     ℯ                                                            d(v₀)\n",
       "    ⌡                                                                       \n",
       "  w                                                                         \n",
       "- ─ + x_t                                                                   \n",
       "  2                                                                         \n",
       "─────────                                                                   \n",
       "    t                                                                       "
      ]
     },
     "execution_count": 16,
     "metadata": {},
     "output_type": "execute_result"
    }
   ],
   "source": [
    "to_solve"
   ]
  },
  {
   "cell_type": "code",
   "execution_count": 19,
   "metadata": {
    "collapsed": false
   },
   "outputs": [
    {
     "name": "stdout",
     "output_type": "stream",
     "text": [
      "True\n"
     ]
    }
   ],
   "source": [
    "exponent = -(v_hat-v)**2 / (2*sigma_v**2) - (t*v-x_t + x_hat)**2 / (2*sigma_x**2) - v**2 / (2*sigma_L**2)\n",
    "print sympy.exp( exponent) == integrand"
   ]
  },
  {
   "cell_type": "markdown",
   "metadata": {},
   "source": [
    "Now let's put the exponent into a negative quadratic form by completing the square."
   ]
  },
  {
   "cell_type": "code",
   "execution_count": 20,
   "metadata": {
    "collapsed": false
   },
   "outputs": [],
   "source": [
    "def complete_the_square(q):\n",
    "    \"\"\" Takes a quadratic polynomial and completes the square\"\"\"\n",
    "    assert(q.degree() == 2)\n",
    "    a,b,c = q.coeffs()\n",
    "    h = sympy.expand( sympy.simplify(-b / (2*a)) )\n",
    "    k = sympy.expand(c - b**2 / (4*a))\n",
    "    return a,h,k"
   ]
  },
  {
   "cell_type": "code",
   "execution_count": 21,
   "metadata": {
    "collapsed": false
   },
   "outputs": [
    {
     "data": {
      "image/png": "[encoded data removed]",
      "text/latex": [
       "$$\\sigma_{L}^{2} \\sigma_{v}^{2} \\left(\\hat{x}_{0} + t v_{0} - x_{t}\\right)^{2} + \\sigma_{L}^{2} \\sigma_{x}^{2} \\left(\\hat{v}_{0} - v_{0}\\right)^{2} + \\sigma_{v}^{2} \\sigma_{x}^{2} v_{0}^{2}$$"
      ],
      "text/plain": [
       "        2        2                        2           2        2              \n",
       "\\sigma_L ⋅\\sigmaᵥ ⋅(\\hat{x}₀ + t⋅v₀ - x_t)  + \\sigma_L ⋅\\sigmaₓ ⋅(\\hat{v}₀ - v\n",
       "\n",
       "  2          2        2   2\n",
       "₀)  + \\sigmaᵥ ⋅\\sigmaₓ ⋅v₀ "
      ]
     },
     "execution_count": 21,
     "metadata": {},
     "output_type": "execute_result"
    }
   ],
   "source": [
    "p = sympy.simplify( -2* exponent * sigma_x**2 * sigma_v**2 * sigma_L**2)\n",
    "p"
   ]
  },
  {
   "cell_type": "code",
   "execution_count": 23,
   "metadata": {
    "collapsed": false
   },
   "outputs": [
    {
     "data": {
      "image/png": "[encoded data removed]",
      "text/latex": [
       "$$- 2 \\hat{v}_{0} \\sigma_{L}^{2} \\sigma_{x}^{2} + 2 \\hat{x}_{0} \\sigma_{L}^{2} \\sigma_{v}^{2} t - 2 \\sigma_{L}^{2} \\sigma_{v}^{2} t x_{t}$$"
      ],
      "text/plain": [
       "                     2        2                      2        2               \n",
       "- 2⋅\\hat{v}₀⋅\\sigma_L ⋅\\sigmaₓ  + 2⋅\\hat{x}₀⋅\\sigma_L ⋅\\sigmaᵥ ⋅t - 2⋅\\sigma_L\n",
       "\n",
       "2        2      \n",
       " ⋅\\sigmaᵥ ⋅t⋅x_t"
      ]
     },
     "execution_count": 23,
     "metadata": {},
     "output_type": "execute_result"
    }
   ],
   "source": [
    "a,b,c = sympy.Poly(p,v).coeffs()\n",
    "b"
   ]
  },
  {
   "cell_type": "code",
   "execution_count": 26,
   "metadata": {
    "collapsed": false
   },
   "outputs": [
    {
     "data": {
      "image/png": "[encoded data removed]",
      "text/latex": [
       "$$0$$"
      ],
      "text/plain": [
       "0"
      ]
     },
     "execution_count": 26,
     "metadata": {},
     "output_type": "execute_result"
    }
   ],
   "source": [
    "a,h,k = complete_the_square( sympy.Poly(p,v) )\n",
    "a,h,k = [ sympy.simplify(_) for _ in [a,h,k] ]\n",
    "sympy.simplify( sympy.expand(p - sympy.expand(a*(v-h)**2 + k))) #outputs 0 when p(u) = a(u-h)**2 + k"
   ]
  },
  {
   "cell_type": "markdown",
   "metadata": {},
   "source": [
    "Now that we've written the exponent in the form $ p = a(u-h)+k$ we have transformed the integral into solving\n",
    "$$\n",
    "  I = \\int_{u_{\\min}}^{u_{\\max}} e^{\\frac{-1}{2 \\sigma_x^2 \\sigma_v^2 \\sigma_L^2} ( a(v_0-h)^2 - k /2)} dv_0\n",
    "$$\n",
    "\n",
    "We can integrate with respect to $u$ to get our desired integral.  Note that:"
   ]
  },
  {
   "cell_type": "code",
   "execution_count": 28,
   "metadata": {
    "collapsed": false
   },
   "outputs": [
    {
     "data": {
      "image/png": "[encoded data removed]",
      "text/latex": [
       "$$\\frac{\\sqrt{2} \\sqrt{\\pi}}{2 \\sqrt{\\eta}} \\operatorname{erf}{\\left (\\frac{\\sqrt{2} \\sqrt{\\eta}}{2} \\left(- h + v_{0}\\right) \\right )}$$"
      ],
      "text/plain": [
       "               ⎛  ___   ___          ⎞\n",
       "  ___   ___    ⎜╲╱ 2 ⋅╲╱ η ⋅(-h + v₀)⎟\n",
       "╲╱ 2 ⋅╲╱ π ⋅erf⎜─────────────────────⎟\n",
       "               ⎝          2          ⎠\n",
       "──────────────────────────────────────\n",
       "                   ___                \n",
       "               2⋅╲╱ η                 "
      ]
     },
     "execution_count": 28,
     "metadata": {},
     "output_type": "execute_result"
    }
   ],
   "source": [
    "sympy.integrate( sympy.exp( -(v- sympy.symbols('h'))**2 * sympy.symbols('eta')/2 ),v)"
   ]
  },
  {
   "cell_type": "markdown",
   "metadata": {
    "collapsed": true
   },
   "source": [
    "Therefore, the desired integral is\n",
    "$$\n",
    "    I = e^{\\frac{-k}{2 \\sigma_x^2 \\sigma_L^2 \\sigma_v^2}}  \\left[ \\frac{ \\sigma_x \\sigma_L \\sigma_v \\sqrt{\\pi} }{\\sqrt{2a} } {\\rm erf} \\left( \\sqrt{ \\frac{a}{2\\sigma_x^2 \\sigma_v^2 \\sigma_L^2}} (v_0 - h) \\right) \\right] \\Big|_{u = (x_t - w/2)t^{-1}}^{(x_t+w/2)t^{-1}}\n",
    "$$\n",
    "where $a$ $h$ and $k$ are given by"
   ]
  },
  {
   "cell_type": "code",
   "execution_count": 29,
   "metadata": {
    "collapsed": false
   },
   "outputs": [
    {
     "data": {
      "image/png": "[encoded data removed]",
      "text/latex": [
       "$$\\sigma_{L}^{2} \\sigma_{v}^{2} t^{2} + \\sigma_{L}^{2} \\sigma_{x}^{2} + \\sigma_{v}^{2} \\sigma_{x}^{2}$$"
      ],
      "text/plain": [
       "        2        2  2           2        2          2        2\n",
       "\\sigma_L ⋅\\sigmaᵥ ⋅t  + \\sigma_L ⋅\\sigmaₓ  + \\sigmaᵥ ⋅\\sigmaₓ "
      ]
     },
     "execution_count": 29,
     "metadata": {},
     "output_type": "execute_result"
    }
   ],
   "source": [
    "a"
   ]
  },
  {
   "cell_type": "code",
   "execution_count": 30,
   "metadata": {
    "collapsed": false
   },
   "outputs": [
    {
     "data": {
      "image/png": "[encoded data removed]",
      "text/latex": [
       "$$\\frac{\\sigma_{L}^{2} \\left(\\hat{v}_{0} \\sigma_{x}^{2} - \\hat{x}_{0} \\sigma_{v}^{2} t + \\sigma_{v}^{2} t x_{t}\\right)}{\\sigma_{L}^{2} \\sigma_{v}^{2} t^{2} + \\sigma_{L}^{2} \\sigma_{x}^{2} + \\sigma_{v}^{2} \\sigma_{x}^{2}}$$"
      ],
      "text/plain": [
       "        2 ⎛                2                   2            2      ⎞\n",
       "\\sigma_L ⋅⎝\\hat{v}₀⋅\\sigmaₓ  - \\hat{x}₀⋅\\sigmaᵥ ⋅t + \\sigmaᵥ ⋅t⋅x_t⎠\n",
       "────────────────────────────────────────────────────────────────────\n",
       "           2        2  2           2        2          2        2   \n",
       "   \\sigma_L ⋅\\sigmaᵥ ⋅t  + \\sigma_L ⋅\\sigmaₓ  + \\sigmaᵥ ⋅\\sigmaₓ    "
      ]
     },
     "execution_count": 30,
     "metadata": {},
     "output_type": "execute_result"
    }
   ],
   "source": [
    "h"
   ]
  },
  {
   "cell_type": "code",
   "execution_count": 31,
   "metadata": {
    "collapsed": false
   },
   "outputs": [
    {
     "data": {
      "image/png": "[encoded data removed]",
      "text/latex": [
       "$$\\frac{\\sigma_{L}^{2} \\sigma_{v}^{2} \\sigma_{x}^{2}}{\\sigma_{L}^{2} \\sigma_{v}^{2} t^{2} + \\sigma_{L}^{2} \\sigma_{x}^{2} + \\sigma_{v}^{2} \\sigma_{x}^{2}} \\left(\\hat{v}_{0}^{2} \\sigma_{L}^{2} t^{2} + \\hat{v}_{0}^{2} \\sigma_{x}^{2} + 2 \\hat{v}_{0} \\hat{x}_{0} \\sigma_{L}^{2} t - 2 \\hat{v}_{0} \\sigma_{L}^{2} t x_{t} + \\hat{x}_{0}^{2} \\sigma_{L}^{2} + \\hat{x}_{0}^{2} \\sigma_{v}^{2} - 2 \\hat{x}_{0} \\sigma_{L}^{2} x_{t} - 2 \\hat{x}_{0} \\sigma_{v}^{2} x_{t} + \\sigma_{L}^{2} x_{t}^{2} + \\sigma_{v}^{2} x_{t}^{2}\\right)$$"
      ],
      "text/plain": [
       "        2        2        2 ⎛        2         2  2           2        2      \n",
       "\\sigma_L ⋅\\sigmaᵥ ⋅\\sigmaₓ ⋅⎝\\hat{v}₀ ⋅\\sigma_L ⋅t  + \\hat{v}₀ ⋅\\sigmaₓ  + 2⋅\\\n",
       "──────────────────────────────────────────────────────────────────────────────\n",
       "                                                                              \n",
       "                                                                              \n",
       "\n",
       "                         2                        2                 2         \n",
       "hat{v}₀⋅\\hat{x}₀⋅\\sigma_L ⋅t - 2⋅\\hat{v}₀⋅\\sigma_L ⋅t⋅x_t + \\hat{x}₀ ⋅\\sigma_L\n",
       "──────────────────────────────────────────────────────────────────────────────\n",
       "                                2        2  2           2        2          2 \n",
       "                        \\sigma_L ⋅\\sigmaᵥ ⋅t  + \\sigma_L ⋅\\sigmaₓ  + \\sigmaᵥ ⋅\n",
       "\n",
       "2           2        2                      2                         2       \n",
       "  + \\hat{x}₀ ⋅\\sigmaᵥ  - 2⋅\\hat{x}₀⋅\\sigma_L ⋅x_t - 2⋅\\hat{x}₀⋅\\sigmaᵥ ⋅x_t + \n",
       "──────────────────────────────────────────────────────────────────────────────\n",
       "       2                                                                      \n",
       "\\sigmaₓ                                                                       \n",
       "\n",
       "        2    2          2    2⎞\n",
       "\\sigma_L ⋅x_t  + \\sigmaᵥ ⋅x_t ⎠\n",
       "───────────────────────────────\n",
       "                               \n",
       "                               "
      ]
     },
     "execution_count": 31,
     "metadata": {},
     "output_type": "execute_result"
    }
   ],
   "source": [
    "k"
   ]
  },
  {
   "cell_type": "markdown",
   "metadata": {
    "collapsed": false
   },
   "source": [
    "We can write $k$ more consicisely as"
   ]
  },
  {
   "cell_type": "code",
   "execution_count": 33,
   "metadata": {
    "collapsed": false
   },
   "outputs": [],
   "source": [
    "k_concise = sigma_v**2 * sigma_L**2 * (x_hat - x_t)**2 + sigma_x**2 * sigma_L**2 * v_hat**2 - sigma_L**2 * \\\n",
    "(v_hat * sigma_x**2 - t*sigma_v**2 * (x_hat - x_t) )**2 / (sigma_v**2 * t**2 + sigma_x**2 * (1+ (sigma_v/sigma_L)**2))"
   ]
  },
  {
   "cell_type": "code",
   "execution_count": 34,
   "metadata": {
    "collapsed": false
   },
   "outputs": [
    {
     "data": {
      "image/png": "[encoded data removed]",
      "text/latex": [
       "$$\\hat{v}_{0}^{2} \\sigma_{L}^{2} \\sigma_{x}^{2} + \\sigma_{L}^{2} \\sigma_{v}^{2} \\left(\\hat{x}_{0} - x_{t}\\right)^{2} - \\frac{\\sigma_{L}^{2} \\left(\\hat{v}_{0} \\sigma_{x}^{2} - \\sigma_{v}^{2} t \\left(\\hat{x}_{0} - x_{t}\\right)\\right)^{2}}{\\sigma_{v}^{2} t^{2} + \\sigma_{x}^{2} \\left(1 + \\frac{\\sigma_{v}^{2}}{\\sigma_{L}^{2}}\\right)}$$"
      ],
      "text/plain": [
       "                                                                              \n",
       "                                                                              \n",
       "        2         2        2           2        2                 2   \\sigma_L\n",
       "\\hat{v}₀ ⋅\\sigma_L ⋅\\sigmaₓ  + \\sigma_L ⋅\\sigmaᵥ ⋅(\\hat{x}₀ - x_t)  - ────────\n",
       "                                                                              \n",
       "                                                                              \n",
       "                                                                              \n",
       "                                                                              \n",
       "                                                                              \n",
       "\n",
       "                                                   2\n",
       "2 ⎛                2          2                   ⎞ \n",
       " ⋅⎝\\hat{v}₀⋅\\sigmaₓ  - \\sigmaᵥ ⋅t⋅(\\hat{x}₀ - x_t)⎠ \n",
       "────────────────────────────────────────────────────\n",
       "                          ⎛            2⎞           \n",
       "          2  2          2 ⎜     \\sigmaᵥ ⎟           \n",
       "   \\sigmaᵥ ⋅t  + \\sigmaₓ ⋅⎜1 + ─────────⎟           \n",
       "                          ⎜            2⎟           \n",
       "                          ⎝    \\sigma_L ⎠           "
      ]
     },
     "execution_count": 34,
     "metadata": {},
     "output_type": "execute_result"
    }
   ],
   "source": [
    "k_concise"
   ]
  },
  {
   "cell_type": "code",
   "execution_count": 35,
   "metadata": {
    "collapsed": false
   },
   "outputs": [
    {
     "data": {
      "image/png": "[encoded data removed]",
      "text/latex": [
       "$$0$$"
      ],
      "text/plain": [
       "0"
      ]
     },
     "execution_count": 35,
     "metadata": {},
     "output_type": "execute_result"
    }
   ],
   "source": [
    "sympy.simplify( sympy.expand(k_concise - k) ) #Should output 0 if k_concise = k"
   ]
  },
  {
   "cell_type": "markdown",
   "metadata": {},
   "source": [
    "According to these calculations, the joint distribution is given by\n",
    "$$\n",
    "   \\Pr(x_t, Lin, \\hat{x}_0, \\hat{v}_0) = \\frac{ \\Pr(Lin) e^{-\\bar{k}/2} }{ 16 \\pi^2 |D| a } E_0 E_1 \n",
    "$$\n",
    "where\n",
    "\\begin{align*}\n",
    "    \\bar{k} := \\frac{k}{ \\sigma_x^2 \\sigma_v^2 \\sigma_L^2} &= \\frac{ \\hat{u}^2}{ \\sigma_v^2} + \\frac{ (\\hat{x}_0 - x_t)^2}{ \\sigma_x^2}\n",
    "        - \\left( \\hat{u} \\frac{ \\sigma_x}{ \\sigma_v } - t (\\hat{x}_0 - x_t) \\frac{ \\sigma_v  }{\\sigma_x} \\right)^2\n",
    "        \\left( \\sigma_v^2 t^2 + \\sigma_x^2 \\left( 1 + \\left(\\frac{\\sigma_v}{\\sigma_L}\\right)^2 \\right) \\right)^{-1} \\\\\n",
    "        &= \\frac{ \\hat{u}^2}{ \\sigma_v^2} + \\frac{ (\\hat{x}_0 - x_t)^2}{ \\sigma_x^2}\n",
    "        - \\frac{\\sigma_L^2}{a} \\left( \\hat{u} \\frac{ \\sigma_x}{ \\sigma_v } - t (\\hat{x}_0 - x_t) \\frac{ \\sigma_v  }{\\sigma_x} \\right)^2\n",
    "\\end{align*}\n",
    "and\n",
    "$$\n",
    "    E_\\alpha = \\left. {\\rm erf} \\left( \\sqrt{ \\frac{t^2}{\\sigma_x^2} + \\frac{1}{\\sigma_v^2} + \\frac{1}{\\sigma_L^2} } [u - h_\\alpha] \\right) \\right|_{u = (x_t^\\alpha - \\frac{w_\\alpha}{2})^{-1}}^{(x_t^\\alpha + \\frac{w_\\alpha}{2})^{-1}}\n",
    "$$\n",
    "and for $\\alpha = 0,1$\n",
    "\n",
    "The log-liklihood is\n",
    "$$\n",
    "     \\log( \\Pr(Lin) ) - \\frac{ \\bar{k}}{2} - \\log( 16 \\pi^2) - \\log(a) + \\log(E_0) + \\log(E_1).\n",
    "$$\n",
    "This formula might be more numerically stable."
   ]
  },
  {
   "cell_type": "code",
   "execution_count": null,
   "metadata": {
    "collapsed": true
   },
   "outputs": [],
   "source": []
  }
 ],
 "metadata": {
  "kernelspec": {
   "display_name": "Python 2",
   "language": "python",
   "name": "python2"
  },
  "language_info": {
   "codemirror_mode": {
    "name": "ipython",
    "version": 2
   },
   "file_extension": ".py",
   "mimetype": "text/x-python",
   "name": "python",
   "nbconvert_exporter": "python",
   "pygments_lexer": "ipython2",
   "version": "2.7.11"
  }
 },
 "nbformat": 4,
 "nbformat_minor": 0
}
