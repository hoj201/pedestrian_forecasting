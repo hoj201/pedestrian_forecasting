{
 "cells": [
  {
   "cell_type": "code",
   "execution_count": 36,
   "metadata": {
    "collapsed": false
   },
   "outputs": [],
   "source": [
    "import sympy\n",
    "sympy.init_printing()"
   ]
  },
  {
   "cell_type": "code",
   "execution_count": 108,
   "metadata": {
    "collapsed": false
   },
   "outputs": [],
   "source": [
    "x_t, t, u, x_hat, u_hat, sigma_x, sigma_v, sigma_L, w = sympy.symbols('x_t t u \\hat{x} \\hat{u} \\sigma_x \\sigma_v \\sigma_L w')\n",
    "G1 = sympy.exp( -(x_hat - x_t + t*u)**2 / (2*sigma_x**2))\n",
    "G2 = sympy.exp( -(u_hat - u)**2 / (2*(sigma_v)**2))\n",
    "G3 = sympy.exp( -u**2/ (2*sigma_L**2))"
   ]
  },
  {
   "cell_type": "code",
   "execution_count": 109,
   "metadata": {
    "collapsed": false
   },
   "outputs": [],
   "source": [
    "integrand = sympy.simplify(G1*G2*G3)"
   ]
  },
  {
   "cell_type": "code",
   "execution_count": 110,
   "metadata": {
    "collapsed": false
   },
   "outputs": [],
   "source": [
    "to_solve = sympy.Integral( integrand, (u, (x_t-w/2)/t, (x_t+w/2)/t ) )"
   ]
  },
  {
   "cell_type": "markdown",
   "metadata": {},
   "source": [
    "We want to solve the integral:"
   ]
  },
  {
   "cell_type": "code",
   "execution_count": 111,
   "metadata": {
    "collapsed": false
   },
   "outputs": [
    {
     "data": {
      "image/png": "[encoded data removed]",
      "text/latex": [
       "$$\\int_{\\frac{1}{t} \\left(- \\frac{w}{2} + x_{t}\\right)}^{\\frac{1}{t} \\left(\\frac{w}{2} + x_{t}\\right)} e^{- \\frac{1}{2 \\sigma_{x}^{2}} \\left(\\hat{x} + t u - x_{t}\\right)^{2} - \\frac{\\left(\\hat{u} - u\\right)^{2}}{2 \\sigma_{v}^{2}} - \\frac{u^{2}}{2 \\sigma_{L}^{2}}}\\, du$$"
      ],
      "text/plain": [
       " w                                                                   \n",
       " ─ + x_t                                                             \n",
       " 2                                                                   \n",
       " ───────                                                             \n",
       "    t                                                                \n",
       "    ⌠                                                                \n",
       "    ⎮                             2                2         2       \n",
       "    ⎮        (\\hat{x} + t⋅u - x_t)    (\\hat{u} - u)         u        \n",
       "    ⎮      - ────────────────────── - ────────────── - ───────────   \n",
       "    ⎮                       2                    2               2   \n",
       "    ⎮              2⋅\\sigmaₓ            2⋅\\sigmaᵥ      2⋅\\sigma_L    \n",
       "    ⎮     ℯ                                                        du\n",
       "    ⌡                                                                \n",
       "  w                                                                  \n",
       "- ─ + x_t                                                            \n",
       "  2                                                                  \n",
       "─────────                                                            \n",
       "    t                                                                "
      ]
     },
     "execution_count": 111,
     "metadata": {},
     "output_type": "execute_result"
    }
   ],
   "source": [
    "to_solve"
   ]
  },
  {
   "cell_type": "code",
   "execution_count": 113,
   "metadata": {
    "collapsed": false
   },
   "outputs": [
    {
     "name": "stdout",
     "output_type": "stream",
     "text": [
      "True\n"
     ]
    }
   ],
   "source": [
    "exponent = -(u_hat-u)**2 / (2*sigma_v**2) - (t*u-x_t + x_hat)**2 / (2*sigma_x**2) - u**2 / (2*sigma_L**2)\n",
    "print sympy.exp( exponent) == integrand"
   ]
  },
  {
   "cell_type": "markdown",
   "metadata": {},
   "source": [
    "Now let's put the exponent into a negative quadratic form by completing the square."
   ]
  },
  {
   "cell_type": "code",
   "execution_count": 114,
   "metadata": {
    "collapsed": false
   },
   "outputs": [],
   "source": [
    "def complete_the_square(q):\n",
    "    \"\"\" Takes a quadratic polynomial and completes the square\"\"\"\n",
    "    assert(q.degree() == 2)\n",
    "    a,b,c = q.coeffs()\n",
    "    h = sympy.expand( sympy.simplify(-b / (2*a)) )\n",
    "    k = sympy.expand(c - b**2 / (4*a))\n",
    "    return a,h,k"
   ]
  },
  {
   "cell_type": "code",
   "execution_count": 115,
   "metadata": {
    "collapsed": false
   },
   "outputs": [
    {
     "data": {
      "image/png": "[encoded data removed]",
      "text/latex": [
       "$$\\sigma_{L}^{2} \\sigma_{v}^{2} \\left(\\hat{x} + t u - x_{t}\\right)^{2} + \\sigma_{L}^{2} \\sigma_{x}^{2} \\left(\\hat{u} - u\\right)^{2} + \\sigma_{v}^{2} \\sigma_{x}^{2} u^{2}$$"
      ],
      "text/plain": [
       "        2        2                      2           2        2              2 \n",
       "\\sigma_L ⋅\\sigmaᵥ ⋅(\\hat{x} + t⋅u - x_t)  + \\sigma_L ⋅\\sigmaₓ ⋅(\\hat{u} - u)  \n",
       "\n",
       "         2        2  2\n",
       "+ \\sigmaᵥ ⋅\\sigmaₓ ⋅u "
      ]
     },
     "execution_count": 115,
     "metadata": {},
     "output_type": "execute_result"
    }
   ],
   "source": [
    "p = sympy.simplify( -2* exponent * sigma_x**2 * sigma_v**2 * sigma_L**2)\n",
    "p"
   ]
  },
  {
   "cell_type": "code",
   "execution_count": 116,
   "metadata": {
    "collapsed": false
   },
   "outputs": [
    {
     "data": {
      "image/png": "[encoded data removed]",
      "text/latex": [
       "$$- 2 \\hat{u} \\sigma_{L}^{2} \\sigma_{x}^{2} + 2 \\hat{x} \\sigma_{L}^{2} \\sigma_{v}^{2} t - 2 \\sigma_{L}^{2} \\sigma_{v}^{2} t x_{t}$$"
      ],
      "text/plain": [
       "                    2        2                     2        2               2 \n",
       "- 2⋅\\hat{u}⋅\\sigma_L ⋅\\sigmaₓ  + 2⋅\\hat{x}⋅\\sigma_L ⋅\\sigmaᵥ ⋅t - 2⋅\\sigma_L ⋅\n",
       "\n",
       "       2      \n",
       "\\sigmaᵥ ⋅t⋅x_t"
      ]
     },
     "execution_count": 116,
     "metadata": {},
     "output_type": "execute_result"
    }
   ],
   "source": [
    "a,b,c = sympy.Poly(p,u).coeffs()\n",
    "b"
   ]
  },
  {
   "cell_type": "code",
   "execution_count": 117,
   "metadata": {
    "collapsed": false
   },
   "outputs": [
    {
     "data": {
      "image/png": "[encoded data removed]",
      "text/latex": [
       "$$0$$"
      ],
      "text/plain": [
       "0"
      ]
     },
     "execution_count": 117,
     "metadata": {},
     "output_type": "execute_result"
    }
   ],
   "source": [
    "a,h,k = complete_the_square( sympy.Poly(p,u) )\n",
    "a,h,k = [ sympy.simplify(_) for _ in [a,h,k] ]\n",
    "sympy.simplify( sympy.expand(p - sympy.expand(a*(u-h)**2 + k))) #outputs 0 when p(u) = a(u-h)**2 + k"
   ]
  },
  {
   "cell_type": "markdown",
   "metadata": {},
   "source": [
    "Now that we've written the exponent in the form $ p = a(u-h)+k$ we have transformed the integral into solving\n",
    "$$\n",
    "  I = \\int_{u_{\\min}}^{u_{\\max}} e^{\\frac{-1}{2 \\sigma_x^2 \\sigma_v^2 \\sigma_L^2} ( a(x-h)^2 - k /2)} du\n",
    "$$\n",
    "\n",
    "We can integrate with respect to $u$ to get our desired integral.  Note that:"
   ]
  },
  {
   "cell_type": "code",
   "execution_count": 131,
   "metadata": {
    "collapsed": false
   },
   "outputs": [
    {
     "data": {
      "image/png": "[encoded data removed]",
      "text/latex": [
       "$$\\frac{\\sqrt{2} \\sqrt{\\pi}}{2 \\sqrt{\\eta}} \\operatorname{erf}{\\left (\\frac{\\sqrt{2} \\sqrt{\\eta}}{2} \\left(- h + u\\right) \\right )}$$"
      ],
      "text/plain": [
       "               ⎛  ___   ___         ⎞\n",
       "  ___   ___    ⎜╲╱ 2 ⋅╲╱ η ⋅(-h + u)⎟\n",
       "╲╱ 2 ⋅╲╱ π ⋅erf⎜────────────────────⎟\n",
       "               ⎝         2          ⎠\n",
       "─────────────────────────────────────\n",
       "                   ___               \n",
       "               2⋅╲╱ η                "
      ]
     },
     "execution_count": 131,
     "metadata": {},
     "output_type": "execute_result"
    }
   ],
   "source": [
    "sympy.integrate( sympy.exp( -(u- sympy.symbols('h'))**2 * sympy.symbols('eta')/2 ),u)"
   ]
  },
  {
   "cell_type": "markdown",
   "metadata": {
    "collapsed": true
   },
   "source": [
    "Therefore, the desired integral is\n",
    "$$\n",
    "    I = e^{\\frac{-k}{2 \\sigma_x^2 \\sigma_L^2 \\sigma_v^2}}  \\left[ \\frac{ \\sigma_x \\sigma_L \\sigma_v \\sqrt{\\pi} }{\\sqrt{2a} } {\\rm erf} \\left( \\sqrt{ \\frac{a}{2\\sigma_x^2 \\sigma_v^2 \\sigma_L^2}} (u - h) \\right) \\right] \\Big|_{u = (x_t - w/2)t^{-1}}^{(x_t+w/2)t^{-1}}\n",
    "$$\n",
    "where $a$ $h$ and $k$ are given by"
   ]
  },
  {
   "cell_type": "code",
   "execution_count": 132,
   "metadata": {
    "collapsed": false
   },
   "outputs": [
    {
     "data": {
      "image/png": "[encoded data removed]",
      "text/latex": [
       "$$\\sigma_{L}^{2} \\sigma_{v}^{2} t^{2} + \\sigma_{L}^{2} \\sigma_{x}^{2} + \\sigma_{v}^{2} \\sigma_{x}^{2}$$"
      ],
      "text/plain": [
       "        2        2  2           2        2          2        2\n",
       "\\sigma_L ⋅\\sigmaᵥ ⋅t  + \\sigma_L ⋅\\sigmaₓ  + \\sigmaᵥ ⋅\\sigmaₓ "
      ]
     },
     "execution_count": 132,
     "metadata": {},
     "output_type": "execute_result"
    }
   ],
   "source": [
    "a"
   ]
  },
  {
   "cell_type": "code",
   "execution_count": 133,
   "metadata": {
    "collapsed": false
   },
   "outputs": [
    {
     "data": {
      "image/png": "[encoded data removed]",
      "text/latex": [
       "$$\\frac{\\sigma_{L}^{2} \\left(\\hat{u} \\sigma_{x}^{2} - \\hat{x} \\sigma_{v}^{2} t + \\sigma_{v}^{2} t x_{t}\\right)}{\\sigma_{L}^{2} \\sigma_{v}^{2} t^{2} + \\sigma_{L}^{2} \\sigma_{x}^{2} + \\sigma_{v}^{2} \\sigma_{x}^{2}}$$"
      ],
      "text/plain": [
       "        2 ⎛               2                  2            2      ⎞\n",
       "\\sigma_L ⋅⎝\\hat{u}⋅\\sigmaₓ  - \\hat{x}⋅\\sigmaᵥ ⋅t + \\sigmaᵥ ⋅t⋅x_t⎠\n",
       "──────────────────────────────────────────────────────────────────\n",
       "          2        2  2           2        2          2        2  \n",
       "  \\sigma_L ⋅\\sigmaᵥ ⋅t  + \\sigma_L ⋅\\sigmaₓ  + \\sigmaᵥ ⋅\\sigmaₓ   "
      ]
     },
     "execution_count": 133,
     "metadata": {},
     "output_type": "execute_result"
    }
   ],
   "source": [
    "h"
   ]
  },
  {
   "cell_type": "code",
   "execution_count": 134,
   "metadata": {
    "collapsed": false
   },
   "outputs": [
    {
     "data": {
      "image/png": "[encoded data removed]",
      "text/latex": [
       "$$\\frac{\\sigma_{L}^{2} \\sigma_{v}^{2} \\sigma_{x}^{2}}{\\sigma_{L}^{2} \\sigma_{v}^{2} t^{2} + \\sigma_{L}^{2} \\sigma_{x}^{2} + \\sigma_{v}^{2} \\sigma_{x}^{2}} \\left(\\hat{u}^{2} \\sigma_{L}^{2} t^{2} + \\hat{u}^{2} \\sigma_{x}^{2} + 2 \\hat{u} \\hat{x} \\sigma_{L}^{2} t - 2 \\hat{u} \\sigma_{L}^{2} t x_{t} + \\hat{x}^{2} \\sigma_{L}^{2} + \\hat{x}^{2} \\sigma_{v}^{2} - 2 \\hat{x} \\sigma_{L}^{2} x_{t} - 2 \\hat{x} \\sigma_{v}^{2} x_{t} + \\sigma_{L}^{2} x_{t}^{2} + \\sigma_{v}^{2} x_{t}^{2}\\right)$$"
      ],
      "text/plain": [
       "        2        2        2 ⎛       2         2  2          2        2        \n",
       "\\sigma_L ⋅\\sigmaᵥ ⋅\\sigmaₓ ⋅⎝\\hat{u} ⋅\\sigma_L ⋅t  + \\hat{u} ⋅\\sigmaₓ  + 2⋅\\ha\n",
       "──────────────────────────────────────────────────────────────────────────────\n",
       "                                                                              \n",
       "                                                                              \n",
       "\n",
       "                     2                       2                2         2     \n",
       "t{u}⋅\\hat{x}⋅\\sigma_L ⋅t - 2⋅\\hat{u}⋅\\sigma_L ⋅t⋅x_t + \\hat{x} ⋅\\sigma_L  + \\h\n",
       "──────────────────────────────────────────────────────────────────────────────\n",
       "                           2        2  2           2        2          2      \n",
       "                   \\sigma_L ⋅\\sigmaᵥ ⋅t  + \\sigma_L ⋅\\sigmaₓ  + \\sigmaᵥ ⋅\\sigm\n",
       "\n",
       "     2        2                     2                        2               2\n",
       "at{x} ⋅\\sigmaᵥ  - 2⋅\\hat{x}⋅\\sigma_L ⋅x_t - 2⋅\\hat{x}⋅\\sigmaᵥ ⋅x_t + \\sigma_L \n",
       "──────────────────────────────────────────────────────────────────────────────\n",
       "  2                                                                           \n",
       "aₓ                                                                            \n",
       "\n",
       "    2          2    2⎞\n",
       "⋅x_t  + \\sigmaᵥ ⋅x_t ⎠\n",
       "──────────────────────\n",
       "                      \n",
       "                      "
      ]
     },
     "execution_count": 134,
     "metadata": {},
     "output_type": "execute_result"
    }
   ],
   "source": [
    "k"
   ]
  },
  {
   "cell_type": "markdown",
   "metadata": {
    "collapsed": false
   },
   "source": [
    "We can write $k$ more consicisely as"
   ]
  },
  {
   "cell_type": "code",
   "execution_count": 135,
   "metadata": {
    "collapsed": false
   },
   "outputs": [],
   "source": [
    "k_concise = sigma_v**2 * sigma_L**2 * (x_hat - x_t)**2 + sigma_x**2 * sigma_L**2 * u_hat**2 - sigma_L**2 * \\\n",
    "(u_hat * sigma_x**2 - t*sigma_v**2 * (x_hat - x_t) )**2 / (sigma_v**2 * t**2 + sigma_x**2 * (1+ (sigma_v/sigma_L)**2))"
   ]
  },
  {
   "cell_type": "code",
   "execution_count": 136,
   "metadata": {
    "collapsed": false
   },
   "outputs": [
    {
     "data": {
      "image/png": "[encoded data removed]",
      "text/latex": [
       "$$\\hat{u}^{2} \\sigma_{L}^{2} \\sigma_{x}^{2} + \\sigma_{L}^{2} \\sigma_{v}^{2} \\left(\\hat{x} - x_{t}\\right)^{2} - \\frac{\\sigma_{L}^{2} \\left(\\hat{u} \\sigma_{x}^{2} - \\sigma_{v}^{2} t \\left(\\hat{x} - x_{t}\\right)\\right)^{2}}{\\sigma_{v}^{2} t^{2} + \\sigma_{x}^{2} \\left(1 + \\frac{\\sigma_{v}^{2}}{\\sigma_{L}^{2}}\\right)}$$"
      ],
      "text/plain": [
       "                                                                              \n",
       "                                                                            2 \n",
       "       2         2        2           2        2                2   \\sigma_L ⋅\n",
       "\\hat{u} ⋅\\sigma_L ⋅\\sigmaₓ  + \\sigma_L ⋅\\sigmaᵥ ⋅(\\hat{x} - x_t)  - ──────────\n",
       "                                                                              \n",
       "                                                                              \n",
       "                                                                              \n",
       "                                                                              \n",
       "                                                                              \n",
       "\n",
       "                                               2\n",
       "⎛               2          2                  ⎞ \n",
       "⎝\\hat{u}⋅\\sigmaₓ  - \\sigmaᵥ ⋅t⋅(\\hat{x} - x_t)⎠ \n",
       "────────────────────────────────────────────────\n",
       "                       ⎛            2⎞          \n",
       "       2  2          2 ⎜     \\sigmaᵥ ⎟          \n",
       "\\sigmaᵥ ⋅t  + \\sigmaₓ ⋅⎜1 + ─────────⎟          \n",
       "                       ⎜            2⎟          \n",
       "                       ⎝    \\sigma_L ⎠          "
      ]
     },
     "execution_count": 136,
     "metadata": {},
     "output_type": "execute_result"
    }
   ],
   "source": [
    "k_concise"
   ]
  },
  {
   "cell_type": "code",
   "execution_count": 127,
   "metadata": {
    "collapsed": false
   },
   "outputs": [
    {
     "data": {
      "image/png": "[encoded data removed]",
      "text/latex": [
       "$$0$$"
      ],
      "text/plain": [
       "0"
      ]
     },
     "execution_count": 127,
     "metadata": {},
     "output_type": "execute_result"
    }
   ],
   "source": [
    "sympy.simplify( sympy.expand(k_concise - k) ) #Should output 0 if k_concise = k"
   ]
  },
  {
   "cell_type": "markdown",
   "metadata": {},
   "source": [
    "According to these calculations, the joint distribution is given by\n",
    "$$\n",
    "   \\Pr(x_t, lin, \\hat{x}_0, \\hat{v}_0) = \\frac{ e^{-\\bar{k}/2} }{ 16 \\pi^2 a } E_0 E_1 \n",
    "$$\n",
    "where\n",
    "$$\n",
    "    \\bar{k} = \\frac{ \\hat{u}^2}{ \\sigma_v^2} + \\frac{ (\\hat{x}_0 - x_t)^2}{ \\sigma_x^2}\n",
    "        - \\left( \\frac{ \\hat{u}}{ \\sigma_v^2 } - t \\frac{ \\hat{x}_0 - x_t }{\\sigma_x^2} \\right)^2\n",
    "        \\left( \\sigma_v t^2 + \\sigma_x^2 \\left( 1 + \\left(\\frac{\\sigma_v}{\\sigma_L}\\right)^2 \\right) \\right)^{-1} \n",
    "$$\n",
    "and\n",
    "$$\n",
    "    E_\\alpha = \\left. {\\rm erf} \\left( \\sqrt{ \\frac{t^2}{\\sigma_x^2} + \\frac{1}{\\sigma_v^2} + \\frac{1}{\\sigma_L^2} } [u - h_\\alpha] \\right) \\right|_{u = (x_t^\\alpha - \\frac{w_\\alpha}{2})^{-1}}^{(x_t^\\alpha + \\frac{w_\\alpha}{2})^{-1}}\n",
    "$$\n",
    "and for $\\alpha = 0,1$"
   ]
  }
 ],
 "metadata": {
  "kernelspec": {
   "display_name": "Python 2",
   "language": "python",
   "name": "python2"
  },
  "language_info": {
   "codemirror_mode": {
    "name": "ipython",
    "version": 2
   },
   "file_extension": ".py",
   "mimetype": "text/x-python",
   "name": "python",
   "nbconvert_exporter": "python",
   "pygments_lexer": "ipython2",
   "version": "2.7.11"
  }
 },
 "nbformat": 4,
 "nbformat_minor": 0
}
