{
 "cells": [
  {
   "cell_type": "code",
   "execution_count": 1,
   "metadata": {
    "collapsed": false
   },
   "outputs": [],
   "source": [
    "import sympy\n",
    "sympy.init_printing()"
   ]
  },
  {
   "cell_type": "code",
   "execution_count": 24,
   "metadata": {
    "collapsed": false
   },
   "outputs": [],
   "source": [
    "x_t, t, u, x_hat, u_hat, sigma_x, sigma_v, sigma_L, w = sympy.symbols('x_t t u \\hat{x} \\hat{u} \\sigma_x \\sigma_v \\sigma_L w')\n",
    "G1 = sympy.exp( -(x_hat - x_t - t*u)**2 / (2*sigma_x**2))\n",
    "G2 = sympy.exp( -(u_hat - u)**2 / (2*(sigma_v)**2))\n",
    "G3 = sympy.exp( -u**2/ (2*sigma_L**2))"
   ]
  },
  {
   "cell_type": "code",
   "execution_count": 25,
   "metadata": {
    "collapsed": false
   },
   "outputs": [],
   "source": [
    "integrand = sympy.simplify(G1*G2*G3)"
   ]
  },
  {
   "cell_type": "code",
   "execution_count": 26,
   "metadata": {
    "collapsed": false
   },
   "outputs": [],
   "source": [
    "to_solve = sympy.Integral( integrand, (u, (x_t-w/2)/t, (x_t+w/2)/t ) )"
   ]
  },
  {
   "cell_type": "markdown",
   "metadata": {},
   "source": [
    "We want to solve the integral:"
   ]
  },
  {
   "cell_type": "code",
   "execution_count": 27,
   "metadata": {
    "collapsed": false
   },
   "outputs": [
    {
     "data": {
      "image/png": "[encoded data removed]",
      "text/latex": [
       "$$\\int_{\\frac{1}{t} \\left(- \\frac{w}{2} + x_{t}\\right)}^{\\frac{1}{t} \\left(\\frac{w}{2} + x_{t}\\right)} e^{- \\frac{1}{2 \\sigma_{x}^{2}} \\left(- \\hat{x} + t u + x_{t}\\right)^{2} - \\frac{\\left(\\hat{u} - u\\right)^{2}}{2 \\sigma_{v}^{2}} - \\frac{u^{2}}{2 \\sigma_{L}^{2}}}\\, du$$"
      ],
      "text/plain": [
       " w                                                                    \n",
       " ─ + x_t                                                              \n",
       " 2                                                                    \n",
       " ───────                                                              \n",
       "    t                                                                 \n",
       "    ⌠                                                                 \n",
       "    ⎮                              2                2         2       \n",
       "    ⎮        (-\\hat{x} + t⋅u + x_t)    (\\hat{u} - u)         u        \n",
       "    ⎮      - ─────────────────────── - ────────────── - ───────────   \n",
       "    ⎮                        2                    2               2   \n",
       "    ⎮               2⋅\\sigmaₓ            2⋅\\sigmaᵥ      2⋅\\sigma_L    \n",
       "    ⎮     ℯ                                                         du\n",
       "    ⌡                                                                 \n",
       "  w                                                                   \n",
       "- ─ + x_t                                                             \n",
       "  2                                                                   \n",
       "─────────                                                             \n",
       "    t                                                                 "
      ]
     },
     "execution_count": 27,
     "metadata": {},
     "output_type": "execute_result"
    }
   ],
   "source": [
    "to_solve"
   ]
  },
  {
   "cell_type": "code",
   "execution_count": 29,
   "metadata": {
    "collapsed": false
   },
   "outputs": [
    {
     "name": "stdout",
     "output_type": "stream",
     "text": [
      "True\n"
     ]
    }
   ],
   "source": [
    "exponent = -(u_hat-u)**2 / (2*sigma_v**2) - (t*u+x_t - x_hat)**2 / (2*sigma_x**2) - u**2 / (2*sigma_L**2)\n",
    "print sympy.exp( exponent) == integrand"
   ]
  },
  {
   "cell_type": "markdown",
   "metadata": {},
   "source": [
    "Now let's put the exponent into a negative quadratic form by completing the square."
   ]
  },
  {
   "cell_type": "code",
   "execution_count": 30,
   "metadata": {
    "collapsed": false
   },
   "outputs": [],
   "source": [
    "def complete_the_square(q):\n",
    "    \"\"\" Takes a quadratic polynomial and completes the square\"\"\"\n",
    "    assert(q.degree() == 2)\n",
    "    a,b,c = q.coeffs()\n",
    "    h = sympy.expand( sympy.simplify(-b / (2*a)) )\n",
    "    k = sympy.expand(c - a*h**2)\n",
    "    return a,h,k"
   ]
  },
  {
   "cell_type": "code",
   "execution_count": 31,
   "metadata": {
    "collapsed": false
   },
   "outputs": [
    {
     "name": "stdout",
     "output_type": "stream",
     "text": [
      "True\n"
     ]
    }
   ],
   "source": [
    "a,h,k = complete_the_square( sympy.Poly(exponent,u) )\n",
    "a,h,k = [ sympy.simplify(_) for _ in [a,h,k] ]\n",
    "print sympy.expand(exponent) == sympy.simplify( sympy.expand(a*(u-h)**2 + k))"
   ]
  },
  {
   "cell_type": "markdown",
   "metadata": {},
   "source": [
    "Now that we've written the exponent in the form $a(u-h)+k$ we have transformed the integral into solving\n",
    "$$\n",
    "  I = \\int_{u_{\\min}}^{u_{\\max}} e^{a(x-h)^2 + k} du = e^k \\int_{u_{\\min}-h}^{u_{\\max}-h} e^{au^2} du\n",
    "$$\n",
    "\n",
    "We can integrate with respect to $u$ to get our desired integral.  First note that"
   ]
  },
  {
   "cell_type": "code",
   "execution_count": 35,
   "metadata": {
    "collapsed": false
   },
   "outputs": [
    {
     "data": {
      "image/png": "[encoded data removed]",
      "text/latex": [
       "$$\\int e^{- \\eta u^{2}}\\, du$$"
      ],
      "text/plain": [
       "⌠          \n",
       "⎮      2   \n",
       "⎮  -η⋅u    \n",
       "⎮ ℯ      du\n",
       "⌡          "
      ]
     },
     "execution_count": 35,
     "metadata": {},
     "output_type": "execute_result"
    }
   ],
   "source": [
    "sympy.Integral( sympy.exp( -u**2 * sympy.symbols('eta') ), u)"
   ]
  },
  {
   "cell_type": "code",
   "execution_count": 37,
   "metadata": {
    "collapsed": false
   },
   "outputs": [
    {
     "data": {
      "image/png": "[encoded data removed]",
      "text/latex": [
       "$$\\begin{cases} u & \\text{for}\\: \\eta = 0 \\\\\\frac{\\sqrt{\\pi}}{2 \\sqrt{\\eta}} \\operatorname{erf}{\\left (\\sqrt{\\eta} u \\right )} & \\text{otherwise} \\end{cases}$$"
      ],
      "text/plain": [
       "⎧        u           for η = 0\n",
       "⎪                             \n",
       "⎪  ___    ⎛  ___  ⎞           \n",
       "⎨╲╱ π ⋅erf⎝╲╱ η ⋅u⎠           \n",
       "⎪──────────────────  otherwise\n",
       "⎪         ___                 \n",
       "⎩     2⋅╲╱ η                  "
      ]
     },
     "execution_count": 37,
     "metadata": {},
     "output_type": "execute_result"
    }
   ],
   "source": [
    "sympy.integrate( sympy.exp( -u**2 * sympy.symbols('eta')),u)"
   ]
  },
  {
   "cell_type": "markdown",
   "metadata": {
    "collapsed": true
   },
   "source": [
    "Therefore, the desired integral is\n",
    "$$\n",
    "    I = e^k  \\left[ \\frac{\\pi}{2 \\sqrt{-a} } {\\rm erf}( \\sqrt{-a} (u - h) ) \\right] \\Big|_{u = (x_t - w/2)t^{-1}}^{(x_t+w/2)t^{-1}}\n",
    "$$\n",
    "where $a$ $h$ and $k$ are given by"
   ]
  },
  {
   "cell_type": "code",
   "execution_count": 39,
   "metadata": {
    "collapsed": false
   },
   "outputs": [
    {
     "data": {
      "image/png": "[encoded data removed]",
      "text/latex": [
       "$$- \\frac{t^{2}}{2 \\sigma_{x}^{2}} - \\frac{1}{2 \\sigma_{v}^{2}} - \\frac{1}{2 \\sigma_{L}^{2}}$$"
      ],
      "text/plain": [
       "       2                               \n",
       "      t            1             1     \n",
       "- ────────── - ────────── - ───────────\n",
       "           2            2             2\n",
       "  2⋅\\sigmaₓ    2⋅\\sigmaᵥ    2⋅\\sigma_L "
      ]
     },
     "execution_count": 39,
     "metadata": {},
     "output_type": "execute_result"
    }
   ],
   "source": [
    "a"
   ]
  },
  {
   "cell_type": "code",
   "execution_count": 40,
   "metadata": {
    "collapsed": false
   },
   "outputs": [
    {
     "data": {
      "image/png": "[encoded data removed]",
      "text/latex": [
       "$$\\frac{\\sigma_{L}^{2} \\left(\\hat{u} \\sigma_{x}^{2} + \\hat{x} \\sigma_{v}^{2} t - \\sigma_{v}^{2} t x_{t}\\right)}{\\sigma_{L}^{2} \\sigma_{v}^{2} t^{2} + \\sigma_{L}^{2} \\sigma_{x}^{2} + \\sigma_{v}^{2} \\sigma_{x}^{2}}$$"
      ],
      "text/plain": [
       "        2 ⎛               2                  2            2      ⎞\n",
       "\\sigma_L ⋅⎝\\hat{u}⋅\\sigmaₓ  + \\hat{x}⋅\\sigmaᵥ ⋅t - \\sigmaᵥ ⋅t⋅x_t⎠\n",
       "──────────────────────────────────────────────────────────────────\n",
       "          2        2  2           2        2          2        2  \n",
       "  \\sigma_L ⋅\\sigmaᵥ ⋅t  + \\sigma_L ⋅\\sigmaₓ  + \\sigmaᵥ ⋅\\sigmaₓ   "
      ]
     },
     "execution_count": 40,
     "metadata": {},
     "output_type": "execute_result"
    }
   ],
   "source": [
    "h"
   ]
  },
  {
   "cell_type": "code",
   "execution_count": 41,
   "metadata": {
    "collapsed": false
   },
   "outputs": [
    {
     "data": {
      "image/png": "[encoded data removed]",
      "text/latex": [
       "$$\\frac{1}{\\sigma_{L}^{2} \\sigma_{v}^{2} t^{2} + \\sigma_{L}^{2} \\sigma_{x}^{2} + \\sigma_{v}^{2} \\sigma_{x}^{2}} \\left(- \\frac{\\hat{u}^{2} \\sigma_{L}^{2}}{2} t^{2} - \\frac{\\hat{u}^{2} \\sigma_{x}^{2}}{2} + \\hat{u} \\hat{x} \\sigma_{L}^{2} t - \\hat{u} \\sigma_{L}^{2} t x_{t} - \\frac{\\hat{x}^{2} \\sigma_{L}^{2}}{2} - \\frac{\\hat{x}^{2} \\sigma_{v}^{2}}{2} + \\hat{x} \\sigma_{L}^{2} x_{t} + \\hat{x} \\sigma_{v}^{2} x_{t} - \\frac{\\sigma_{L}^{2} x_{t}^{2}}{2} - \\frac{\\sigma_{v}^{2} x_{t}^{2}}{2}\\right)$$"
      ],
      "text/plain": [
       "         2         2  2          2        2                                   \n",
       "  \\hat{u} ⋅\\sigma_L ⋅t    \\hat{u} ⋅\\sigmaₓ                            2       \n",
       "- ───────────────────── - ───────────────── + \\hat{u}⋅\\hat{x}⋅\\sigma_L ⋅t - \\h\n",
       "            2                     2                                           \n",
       "──────────────────────────────────────────────────────────────────────────────\n",
       "                                                                              \n",
       "                                                                              \n",
       "\n",
       "                               2         2          2        2                \n",
       "              2         \\hat{x} ⋅\\sigma_L    \\hat{x} ⋅\\sigmaᵥ                 \n",
       "at{u}⋅\\sigma_L ⋅t⋅x_t - ────────────────── - ───────────────── + \\hat{x}⋅\\sigm\n",
       "                                2                    2                        \n",
       "──────────────────────────────────────────────────────────────────────────────\n",
       "         2        2  2           2        2          2        2               \n",
       " \\sigma_L ⋅\\sigmaᵥ ⋅t  + \\sigma_L ⋅\\sigmaₓ  + \\sigmaᵥ ⋅\\sigmaₓ                \n",
       "\n",
       "                                          2    2          2    2\n",
       "   2                      2       \\sigma_L ⋅x_t    \\sigmaᵥ ⋅x_t \n",
       "a_L ⋅x_t + \\hat{x}⋅\\sigmaᵥ ⋅x_t - ────────────── - ─────────────\n",
       "                                        2                2      \n",
       "────────────────────────────────────────────────────────────────\n",
       "                                                                \n",
       "                                                                "
      ]
     },
     "execution_count": 41,
     "metadata": {},
     "output_type": "execute_result"
    }
   ],
   "source": [
    "k"
   ]
  },
  {
   "cell_type": "code",
   "execution_count": 38,
   "metadata": {
    "collapsed": false
   },
   "outputs": [
    {
     "data": {
      "image/png": "[encoded data removed]",
      "text/latex": [
       "$$- \\frac{\\sqrt{2} \\sqrt{\\pi}}{2 \\sqrt{- \\frac{1}{\\sigma_{L}^{2} \\sigma_{v}^{2} \\sigma_{x}^{2}} \\left(\\sigma_{L}^{2} \\sigma_{v}^{2} t^{2} + \\sigma_{L}^{2} \\sigma_{x}^{2} + \\sigma_{v}^{2} \\sigma_{x}^{2}\\right)}} e^{- \\frac{1}{2 \\sigma_{L}^{2} \\sigma_{v}^{2} t^{2} + 2 \\sigma_{L}^{2} \\sigma_{x}^{2} + 2 \\sigma_{v}^{2} \\sigma_{x}^{2}} \\left(\\hat{u}^{2} \\sigma_{L}^{2} t^{2} + \\hat{u}^{2} \\sigma_{x}^{2} - 2 \\hat{u} \\hat{x} \\sigma_{L}^{2} t + 2 \\hat{u} \\sigma_{L}^{2} t x_{t} + \\hat{x}^{2} \\sigma_{L}^{2} + \\hat{x}^{2} \\sigma_{v}^{2} - 2 \\hat{x} \\sigma_{L}^{2} x_{t} - 2 \\hat{x} \\sigma_{v}^{2} x_{t} + \\sigma_{L}^{2} x_{t}^{2} + \\sigma_{v}^{2} x_{t}^{2}\\right)} \\operatorname{erf}{\\left (\\frac{\\sqrt{2} \\sqrt{- \\frac{1}{\\sigma_{L}^{2} \\sigma_{v}^{2} \\sigma_{x}^{2}} \\left(\\sigma_{L}^{2} \\sigma_{v}^{2} t^{2} + \\sigma_{L}^{2} \\sigma_{x}^{2} + \\sigma_{v}^{2} \\sigma_{x}^{2}\\right)}}{2 \\sigma_{L}^{2} \\sigma_{v}^{2} t^{2} + 2 \\sigma_{L}^{2} \\sigma_{x}^{2} + 2 \\sigma_{v}^{2} \\sigma_{x}^{2}} \\left(\\sigma_{L}^{2} \\left(\\hat{u} \\sigma_{x}^{2} + \\hat{x} \\sigma_{v}^{2} t - \\sigma_{v}^{2} t x_{t}\\right) - u \\left(\\sigma_{L}^{2} \\sigma_{v}^{2} t^{2} + \\sigma_{L}^{2} \\sigma_{x}^{2} + \\sigma_{v}^{2} \\sigma_{x}^{2}\\right)\\right) \\right )}$$"
      ],
      "text/plain": [
       "                                                                              \n",
       "               ⎛       2         2  2          2        2                     \n",
       "              -⎝\\hat{u} ⋅\\sigma_L ⋅t  + \\hat{u} ⋅\\sigmaₓ  - 2⋅\\hat{u}⋅\\hat{x}⋅\n",
       "              ────────────────────────────────────────────────────────────────\n",
       "                                                                              \n",
       "   ___   ___                                                                  \n",
       "-╲╱ 2 ⋅╲╱ π ⋅ℯ                                                                \n",
       "                                                                              \n",
       "                                                                              \n",
       "                                                                              \n",
       "──────────────────────────────────────────────────────────────────────────────\n",
       "                                                                              \n",
       "                                                                              \n",
       "                                                                              \n",
       "                                                                              \n",
       "                                                                              \n",
       "                                                                              \n",
       "\n",
       "                                                                              \n",
       "        2                       2                2         2          2       \n",
       "\\sigma_L ⋅t + 2⋅\\hat{u}⋅\\sigma_L ⋅t⋅x_t + \\hat{x} ⋅\\sigma_L  + \\hat{x} ⋅\\sigma\n",
       "──────────────────────────────────────────────────────────────────────────────\n",
       "                           2        2  2             2        2            2  \n",
       "                 2⋅\\sigma_L ⋅\\sigmaᵥ ⋅t  + 2⋅\\sigma_L ⋅\\sigmaₓ  + 2⋅\\sigmaᵥ ⋅\\\n",
       "                                                                              \n",
       "                                                                              \n",
       "                                                                              \n",
       "                                                                              \n",
       "──────────────────────────────────────────────────────────────────────────────\n",
       "                                                                              \n",
       "                                                                              \n",
       "                                                                              \n",
       "                                                                              \n",
       "                                                                              \n",
       "                                                                              \n",
       "\n",
       "                                                                              \n",
       " 2                     2                        2               2    2        \n",
       "ᵥ  - 2⋅\\hat{x}⋅\\sigma_L ⋅x_t - 2⋅\\hat{x}⋅\\sigmaᵥ ⋅x_t + \\sigma_L ⋅x_t  + \\sigm\n",
       "──────────────────────────────────────────────────────────────────────────────\n",
       "      2                                                                       \n",
       "sigmaₓ                                                                        \n",
       "                                                                              \n",
       "                                                                              \n",
       "                                                                              \n",
       "                                                                              \n",
       "──────────────────────────────────────────────────────────────────────────────\n",
       "                                                 _____________________________\n",
       "                                                ╱  ⎛        2        2  2     \n",
       "                                               ╱  -⎝\\sigma_L ⋅\\sigmaᵥ ⋅t  + \\s\n",
       "                                         2⋅   ╱   ────────────────────────────\n",
       "                                             ╱                               2\n",
       "                                           ╲╱                        \\sigma_L \n",
       "\n",
       "              ⎛            ___________________________________________________\n",
       "  2    2⎞     ⎜           ╱  ⎛        2        2  2           2        2      \n",
       "aᵥ ⋅x_t ⎠     ⎜  ___     ╱  -⎝\\sigma_L ⋅\\sigmaᵥ ⋅t  + \\sigma_L ⋅\\sigmaₓ  + \\si\n",
       "──────────    ⎜╲╱ 2 ⋅   ╱   ──────────────────────────────────────────────────\n",
       "              ⎜        ╱                               2        2        2    \n",
       "              ⎜      ╲╱                        \\sigma_L ⋅\\sigmaᵥ ⋅\\sigmaₓ     \n",
       "          ⋅   ⎜───────────────────────────────────────────────────────────────\n",
       "              ⎜                                                               \n",
       "              ⎝                                                               \n",
       "           erf                                                                \n",
       "──────────────────────────────────────────────────────────────────────────────\n",
       "_______________________________________                                       \n",
       "      2        2          2        2⎞                                         \n",
       "igma_L ⋅\\sigmaₓ  + \\sigmaᵥ ⋅\\sigmaₓ ⎠                                         \n",
       "──────────────────────────────────────                                        \n",
       "        2        2                                                            \n",
       "⋅\\sigmaᵥ ⋅\\sigmaₓ                                                             \n",
       "\n",
       "_________________                                                             \n",
       "    2        2⎞                                                               \n",
       "gmaᵥ ⋅\\sigmaₓ ⎠   ⎛        2 ⎛               2                  2            2\n",
       "──────────────── ⋅⎝\\sigma_L ⋅⎝\\hat{u}⋅\\sigmaₓ  + \\hat{x}⋅\\sigmaᵥ ⋅t - \\sigmaᵥ \n",
       "                                                                              \n",
       "                                                                              \n",
       "──────────────────────────────────────────────────────────────────────────────\n",
       "                      2        2  2             2        2            2       \n",
       "            2⋅\\sigma_L ⋅\\sigmaᵥ ⋅t  + 2⋅\\sigma_L ⋅\\sigmaₓ  + 2⋅\\sigmaᵥ ⋅\\sigma\n",
       "                                                                              \n",
       "──────────────────────────────────────────────────────────────────────────────\n",
       "                                                                              \n",
       "                                                                              \n",
       "                                                                              \n",
       "                                                                              \n",
       "                                                                              \n",
       "                                                                              \n",
       "\n",
       "                                                                             ⎞\n",
       "                                                                             ⎟\n",
       "      ⎞     ⎛        2        2  2           2        2          2        2⎞⎞⎟\n",
       "⋅t⋅x_t⎠ - u⋅⎝\\sigma_L ⋅\\sigmaᵥ ⋅t  + \\sigma_L ⋅\\sigmaₓ  + \\sigmaᵥ ⋅\\sigmaₓ ⎠⎠⎟\n",
       "                                                                             ⎟\n",
       "                                                                             ⎟\n",
       "─────────────────────────────────────────────────────────────────────────────⎟\n",
       " 2                                                                           ⎟\n",
       "ₓ                                                                            ⎠\n",
       "                                                                              \n",
       "──────────────────────────────────────────────────────────────────────────────\n",
       "                                                                              \n",
       "                                                                              \n",
       "                                                                              \n",
       "                                                                              \n",
       "                                                                              \n",
       "                                                                              \n",
       "\n",
       " \n",
       " \n",
       " \n",
       " \n",
       " \n",
       " \n",
       " \n",
       " \n",
       " \n",
       " \n",
       "─\n",
       " \n",
       " \n",
       " \n",
       " \n",
       " \n",
       " "
      ]
     },
     "execution_count": 38,
     "metadata": {},
     "output_type": "execute_result"
    }
   ],
   "source": [
    "solution = sympy.exp(sympy.simplify(k)) * ( sympy.sqrt(sympy.pi) / (2*sympy.sqrt(a)) ) * sympy.erf( (u-h) * sympy.sqrt(a) )\n",
    "solution = sympy.simplify(solution)\n",
    "solution"
   ]
  }
 ],
 "metadata": {
  "kernelspec": {
   "display_name": "Python 2",
   "language": "python",
   "name": "python2"
  },
  "language_info": {
   "codemirror_mode": {
    "name": "ipython",
    "version": 2
   },
   "file_extension": ".py",
   "mimetype": "text/x-python",
   "name": "python",
   "nbconvert_exporter": "python",
   "pygments_lexer": "ipython2",
   "version": "2.7.11"
  }
 },
 "nbformat": 4,
 "nbformat_minor": 0
}
